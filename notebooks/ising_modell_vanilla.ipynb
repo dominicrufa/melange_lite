{
 "cells": [
  {
   "cell_type": "markdown",
   "id": "ranging-seeker",
   "metadata": {},
   "source": [
    "# The Ising Model"
   ]
  },
  {
   "cell_type": "markdown",
   "id": "received-durham",
   "metadata": {},
   "source": [
    "## Imports"
   ]
  },
  {
   "cell_type": "code",
   "execution_count": 1,
   "id": "cross-firmware",
   "metadata": {},
   "outputs": [],
   "source": [
    "from jax import numpy as jnp\n",
    "import numpy as np\n",
    "from jax.config import config; config.update(\"jax_enable_x64\", True)\n",
    "from jax import lax, ops, vmap, jit, grad, random, lax"
   ]
  },
  {
   "cell_type": "code",
   "execution_count": 2,
   "id": "electronic-envelope",
   "metadata": {},
   "outputs": [],
   "source": [
    "%matplotlib inline\n",
    "\n",
    "import matplotlib\n",
    "import numpy as np\n",
    "import matplotlib.pyplot as plt\n",
    "import seaborn as sns\n",
    "prop_cycle = plt.rcParams['axes.prop_cycle']\n",
    "colors = prop_cycle.by_key()['color']"
   ]
  },
  {
   "cell_type": "code",
   "execution_count": 3,
   "id": "chinese-posting",
   "metadata": {},
   "outputs": [],
   "source": [
    "from melange_lite.magnets.utils import *\n",
    "from melange_lite.magnets.ising_modell import IsingsModellSMCMCMCSampler, TrainableIsingsModellSMCSampler"
   ]
  },
  {
   "cell_type": "markdown",
   "id": "ordered-arthur",
   "metadata": {},
   "source": [
    "# MCMC SMC Sampler with EXP\n",
    "run a simple SMC example with EXP and see what the work trajectories look like, eh?"
   ]
  },
  {
   "cell_type": "code",
   "execution_count": 4,
   "id": "baking-beverage",
   "metadata": {},
   "outputs": [
    {
     "name": "stderr",
     "output_type": "stream",
     "text": [
      "WARNING:absl:No GPU/TPU found, falling back to CPU. (Set TF_CPP_MIN_LOG_LEVEL=0 and rerun for more info.)\n"
     ]
    }
   ],
   "source": [
    "N=1000\n",
    "L=32\n",
    "T = 10\n",
    "direction = [0,1]\n",
    "smc_factory = IsingsModellSMCMCMCSampler(T, N, direction, L, full_scan=True)\n",
    "smc_work_fn = smc_factory.works()\n",
    "\n",
    "\n",
    "def work_fn(seed):\n",
    "    param_dict = {'seed': seed, 'kernel_parameters': jnp.zeros((T,3))}\n",
    "    wks = smc_work_fn(param_dict)\n",
    "    cumulative_works = jnp.cumsum(wks, axis=0)\n",
    "    return cumulative_works\n"
   ]
  },
  {
   "cell_type": "code",
   "execution_count": 5,
   "id": "executive-defense",
   "metadata": {},
   "outputs": [],
   "source": [
    "run_seed = random.PRNGKey(45324623)\n",
    "works = work_fn(run_seed)"
   ]
  },
  {
   "cell_type": "code",
   "execution_count": 6,
   "id": "regulated-whale",
   "metadata": {},
   "outputs": [
    {
     "data": {
      "text/plain": [
       "Text(0, 0.5, 'work / kT')"
      ]
     },
     "execution_count": 6,
     "metadata": {},
     "output_type": "execute_result"
    },
    {
     "data": {
      "image/png": "[encoded data removed]",
      "text/plain": [
       "<Figure size 432x288 with 1 Axes>"
      ]
     },
     "metadata": {
      "needs_background": "light"
     },
     "output_type": "display_data"
    }
   ],
   "source": [
    "for i in range(N):\n",
    "    plt.plot(works[:,i], color=colors[0], alpha=0.3)\n",
    "plt.xlabel(f\"time iteration\")\n",
    "plt.ylabel(f\"work / kT\")"
   ]
  },
  {
   "cell_type": "code",
   "execution_count": 7,
   "id": "acoustic-display",
   "metadata": {},
   "outputs": [],
   "source": [
    "from melange_lite.utils.analysis import *"
   ]
  },
  {
   "cell_type": "markdown",
   "id": "thick-philadelphia",
   "metadata": {},
   "source": [
    "estimate the free energy with Jarzynski estimator"
   ]
  },
  {
   "cell_type": "code",
   "execution_count": 8,
   "id": "cooperative-sensitivity",
   "metadata": {},
   "outputs": [
    {
     "data": {
      "text/plain": [
       "DeviceArray(-961.98120687, dtype=float64)"
      ]
     },
     "execution_count": 8,
     "metadata": {},
     "output_type": "execute_result"
    }
   ],
   "source": [
    "free_energy(works[-1,:])"
   ]
  },
  {
   "cell_type": "code",
   "execution_count": 9,
   "id": "downtown-consumption",
   "metadata": {},
   "outputs": [],
   "source": [
    "free_energies = bootstrap(works[-1,:], random.PRNGKey(34), free_energy, 100000, {})"
   ]
  },
  {
   "cell_type": "code",
   "execution_count": 10,
   "id": "quality-polyester",
   "metadata": {},
   "outputs": [
    {
     "data": {
      "text/plain": [
       "Text(0.5, 0, 'bootstrapped free energy / kT')"
      ]
     },
     "execution_count": 10,
     "metadata": {},
     "output_type": "execute_result"
    },
    {
     "data": {
      "image/png": "[encoded data removed]",
      "text/plain": [
       "<Figure size 432x288 with 1 Axes>"
      ]
     },
     "metadata": {
      "needs_background": "light"
     },
     "output_type": "display_data"
    }
   ],
   "source": [
    "plt.hist(free_energies)\n",
    "plt.xlabel(f\"bootstrapped free energy / kT\")"
   ]
  },
  {
   "cell_type": "markdown",
   "id": "activated-heart",
   "metadata": {},
   "source": [
    "so the variance is only about a nat. but the bias is _huge_"
   ]
  },
  {
   "cell_type": "code",
   "execution_count": 11,
   "id": "prescribed-corps",
   "metadata": {},
   "outputs": [
    {
     "data": {
      "text/plain": [
       "DeviceArray(0.00100015, dtype=float64)"
      ]
     },
     "execution_count": 11,
     "metadata": {},
     "output_type": "execute_result"
    }
   ],
   "source": [
    "ESS(works[-1,:])"
   ]
  },
  {
   "cell_type": "markdown",
   "id": "african-harbor",
   "metadata": {},
   "source": [
    "and the effective samples size (ESS) is ~1e-3 (also, bad)"
   ]
  },
  {
   "cell_type": "markdown",
   "id": "painted-fitting",
   "metadata": {},
   "source": [
    "# Variable T MCMC SMC Sampler with EXP\n",
    "Here, I use a $\\pi_t$-invariant $k_t$ forward kernel and run a sequence for forward MCMC SMC Samplers at varying times with a linear $kT$ annealing scheme"
   ]
  },
  {
   "cell_type": "code",
   "execution_count": 12,
   "id": "together-badge",
   "metadata": {},
   "outputs": [
    {
     "name": "stderr",
     "output_type": "stream",
     "text": [
      "  0%|          | 0/10 [00:00<?, ?it/s]"
     ]
    },
    {
     "name": "stdout",
     "output_type": "stream",
     "text": [
      "running time length 0\n"
     ]
    },
    {
     "name": "stderr",
     "output_type": "stream",
     "text": [
      "100%|██████████| 10/10 [00:09<00:00,  1.02it/s]\n",
      "  0%|          | 0/10 [00:00<?, ?it/s]"
     ]
    },
    {
     "name": "stdout",
     "output_type": "stream",
     "text": [
      "running time length 1\n"
     ]
    },
    {
     "name": "stderr",
     "output_type": "stream",
     "text": [
      "100%|██████████| 10/10 [00:16<00:00,  1.62s/it]\n",
      "  0%|          | 0/10 [00:00<?, ?it/s]"
     ]
    },
    {
     "name": "stdout",
     "output_type": "stream",
     "text": [
      "running time length 2\n"
     ]
    },
    {
     "name": "stderr",
     "output_type": "stream",
     "text": [
      "100%|██████████| 10/10 [00:47<00:00,  4.75s/it]\n",
      "  0%|          | 0/10 [00:00<?, ?it/s]"
     ]
    },
    {
     "name": "stdout",
     "output_type": "stream",
     "text": [
      "running time length 3\n"
     ]
    },
    {
     "name": "stderr",
     "output_type": "stream",
     "text": [
      "100%|██████████| 10/10 [01:28<00:00,  8.81s/it]\n"
     ]
    }
   ],
   "source": [
    "N=10\n",
    "L=32\n",
    "\n",
    "import tqdm\n",
    "Ts = [10, 100, 500, 1000]\n",
    "forward_works = []\n",
    "direction = [0,1]\n",
    "seed = random.PRNGKey(23423)\n",
    "for i in range(len(Ts)):\n",
    "    print(f\"running time length {i}\")\n",
    "    T = Ts[i]\n",
    "    smc_factory = IsingsModellSMCMCMCSampler(T, N, direction, L, full_scan=True)\n",
    "    smc_work_fn = smc_factory.works()\n",
    "    \n",
    "    @jit\n",
    "    def work_fn(seed):\n",
    "        param_dict = {'seed': seed, 'kernel_parameters': jnp.zeros((T,3))}\n",
    "        wks = smc_work_fn(param_dict)\n",
    "        cumulative_works = jnp.cumsum(wks, axis=0)[-1]\n",
    "        return cumulative_works\n",
    "    run_list = []\n",
    "    for q in tqdm.trange(10):\n",
    "        run_seed, seed = random.split(seed)\n",
    "        works = work_fn(run_seed)\n",
    "        run_list.append(works)\n",
    "    forward_works.append(np.array(run_list).flatten())\n",
    "    "
   ]
  },
  {
   "cell_type": "code",
   "execution_count": 13,
   "id": "equipped-springfield",
   "metadata": {},
   "outputs": [],
   "source": [
    "true_f = -1339.27 # (cite)"
   ]
  },
  {
   "cell_type": "code",
   "execution_count": 14,
   "id": "marine-protein",
   "metadata": {},
   "outputs": [],
   "source": [
    "\n",
    "prop_cycle = plt.rcParams['axes.prop_cycle']\n",
    "colors = prop_cycle.by_key()['color']"
   ]
  },
  {
   "cell_type": "code",
   "execution_count": 15,
   "id": "latest-nashville",
   "metadata": {},
   "outputs": [
    {
     "data": {
      "text/plain": [
       "<matplotlib.legend.Legend at 0x7fd300bbb150>"
      ]
     },
     "execution_count": 15,
     "metadata": {},
     "output_type": "execute_result"
    },
    {
     "data": {
      "image/png": "[encoded data removed]",
      "text/plain": [
       "<Figure size 432x288 with 1 Axes>"
      ]
     },
     "metadata": {
      "needs_background": "light"
     },
     "output_type": "display_data"
    }
   ],
   "source": [
    "for i in range(len(Ts)):\n",
    "    T = Ts[i]\n",
    "    sns.histplot(forward_works[i], stat='density', color = colors[i], label=f\"T:{T}\")\n",
    "plt.vlines(true_f, ymin=0, ymax=0.02, color='k', label=\"$- \\log Z$\", lw=3)\n",
    "plt.title(f\"forward MCMC SMC Sampler\")\n",
    "# plt.xlim(true_f - 10, true_f + 10)\n",
    "plt.xlabel(f\"works / kT\")\n",
    "plt.legend()"
   ]
  },
  {
   "cell_type": "markdown",
   "id": "convinced-circus",
   "metadata": {},
   "source": [
    "now, let's plot the free energies..."
   ]
  },
  {
   "cell_type": "code",
   "execution_count": 16,
   "id": "academic-kidney",
   "metadata": {},
   "outputs": [],
   "source": [
    "seed = random.PRNGKey(34234)\n",
    "bootstrapped_free_energies = []\n",
    "for i in range(len(Ts)):\n",
    "    seed, run_seed = random.split(seed)\n",
    "    free_energies = bootstrap(forward_works[i], run_seed, free_energy, 10000, {})\n",
    "    bootstrapped_free_energies.append(free_energies)"
   ]
  },
  {
   "cell_type": "code",
   "execution_count": 17,
   "id": "defensive-haiti",
   "metadata": {},
   "outputs": [],
   "source": [
    "bootstrapped_free_energies = np.array(bootstrapped_free_energies)"
   ]
  },
  {
   "cell_type": "code",
   "execution_count": 18,
   "id": "toxic-korean",
   "metadata": {},
   "outputs": [
    {
     "data": {
      "text/plain": [
       "(4, 100)"
      ]
     },
     "execution_count": 18,
     "metadata": {},
     "output_type": "execute_result"
    }
   ],
   "source": [
    "bootstrapped_free_energies.shape"
   ]
  },
  {
   "cell_type": "markdown",
   "id": "twelve-lexington",
   "metadata": {},
   "source": [
    "compute MSE\n"
   ]
  },
  {
   "cell_type": "code",
   "execution_count": 19,
   "id": "laden-particular",
   "metadata": {},
   "outputs": [],
   "source": [
    "MSE = lambda x: (true_f - np.mean(x))**2 + np.var(x)\n"
   ]
  },
  {
   "cell_type": "code",
   "execution_count": 20,
   "id": "religious-twenty",
   "metadata": {},
   "outputs": [],
   "source": [
    "MSEs = np.array([MSE(x) for x in bootstrapped_free_energies])"
   ]
  },
  {
   "cell_type": "code",
   "execution_count": 21,
   "id": "compact-declaration",
   "metadata": {},
   "outputs": [
    {
     "data": {
      "text/plain": [
       "array([1.68484254e+05, 2.05864334e+03, 1.84399521e+01, 8.83824917e+00])"
      ]
     },
     "execution_count": 21,
     "metadata": {},
     "output_type": "execute_result"
    }
   ],
   "source": [
    "MSEs"
   ]
  },
  {
   "cell_type": "code",
   "execution_count": 22,
   "id": "innovative-billion",
   "metadata": {},
   "outputs": [
    {
     "data": {
      "text/plain": [
       "Text(0.5, 0, 'num annealing steps')"
      ]
     },
     "execution_count": 22,
     "metadata": {},
     "output_type": "execute_result"
    },
    {
     "data": {
      "image/png": "[encoded data removed]",
      "text/plain": [
       "<Figure size 432x288 with 1 Axes>"
      ]
     },
     "metadata": {
      "needs_background": "light"
     },
     "output_type": "display_data"
    }
   ],
   "source": [
    "plt.plot(Ts, MSEs, ls='None', marker='o', markersize=10)\n",
    "plt.xscale('log')\n",
    "plt.yscale('log')\n",
    "plt.ylabel(\"Mean Squared Error / (KT)^2\")\n",
    "plt.xlabel(f\"num annealing steps\")"
   ]
  },
  {
   "cell_type": "code",
   "execution_count": 23,
   "id": "spare-ridge",
   "metadata": {},
   "outputs": [
    {
     "data": {
      "text/plain": [
       "Text(0, 0.5, 'free energy variance')"
      ]
     },
     "execution_count": 23,
     "metadata": {},
     "output_type": "execute_result"
    },
    {
     "data": {
      "image/png": "[encoded data removed]",
      "text/plain": [
       "<Figure size 432x288 with 1 Axes>"
      ]
     },
     "metadata": {
      "needs_background": "light"
     },
     "output_type": "display_data"
    }
   ],
   "source": [
    "plt.plot(Ts, [np.var(i) for i in bootstrapped_free_energies], ls='None', marker='o', markersize=10)\n",
    "plt.xscale('log')\n",
    "plt.xlabel(\"num annealing steps\")\n",
    "plt.ylabel(f\"free energy variance\")"
   ]
  },
  {
   "cell_type": "markdown",
   "id": "official-vessel",
   "metadata": {},
   "source": [
    "so it seems like all of the error is coming from the bias...this might be a problem for our method..."
   ]
  },
  {
   "cell_type": "markdown",
   "id": "collect-fisher",
   "metadata": {},
   "source": [
    "we can also do this in the backward direction*"
   ]
  },
  {
   "cell_type": "code",
   "execution_count": 24,
   "id": "minus-flower",
   "metadata": {},
   "outputs": [
    {
     "name": "stderr",
     "output_type": "stream",
     "text": [
      "  0%|          | 0/10 [00:00<?, ?it/s]"
     ]
    },
    {
     "name": "stdout",
     "output_type": "stream",
     "text": [
      "running time length 0\n"
     ]
    },
    {
     "name": "stderr",
     "output_type": "stream",
     "text": [
      "100%|██████████| 10/10 [00:09<00:00,  1.06it/s]\n",
      "  0%|          | 0/10 [00:00<?, ?it/s]"
     ]
    },
    {
     "name": "stdout",
     "output_type": "stream",
     "text": [
      "running time length 1\n"
     ]
    },
    {
     "name": "stderr",
     "output_type": "stream",
     "text": [
      "100%|██████████| 10/10 [00:22<00:00,  2.24s/it]\n",
      "  0%|          | 0/10 [00:00<?, ?it/s]"
     ]
    },
    {
     "name": "stdout",
     "output_type": "stream",
     "text": [
      "running time length 2\n"
     ]
    },
    {
     "name": "stderr",
     "output_type": "stream",
     "text": [
      "100%|██████████| 10/10 [00:50<00:00,  5.08s/it]\n",
      "  0%|          | 0/10 [00:00<?, ?it/s]"
     ]
    },
    {
     "name": "stdout",
     "output_type": "stream",
     "text": [
      "running time length 3\n"
     ]
    },
    {
     "name": "stderr",
     "output_type": "stream",
     "text": [
      "100%|██████████| 10/10 [01:17<00:00,  7.78s/it]\n"
     ]
    }
   ],
   "source": [
    "N=10\n",
    "L=32\n",
    "\n",
    "import tqdm\n",
    "Ts = [10, 100, 500, 1000]\n",
    "backward_works = []\n",
    "direction = [1,0]\n",
    "seed = random.PRNGKey(23423)\n",
    "for i in range(len(Ts)):\n",
    "    print(f\"running time length {i}\")\n",
    "    T = Ts[i]\n",
    "    smc_factory = IsingsModellSMCMCMCSampler(T, N, direction, L, full_scan=True)\n",
    "    smc_work_fn = smc_factory.works()\n",
    "    \n",
    "    @jit\n",
    "    def work_fn(seed):\n",
    "        param_dict = {'seed': seed, 'kernel_parameters': jnp.zeros((T,3))}\n",
    "        wks = smc_work_fn(param_dict)\n",
    "        cumulative_works = jnp.cumsum(wks, axis=0)[-1]\n",
    "        return cumulative_works\n",
    "    \n",
    "    run_list = []\n",
    "    for q in tqdm.trange(10):\n",
    "        run_seed, seed = random.split(seed)\n",
    "        works = work_fn(run_seed)\n",
    "        run_list.append(works)\n",
    "    backward_works.append(np.array(run_list).flatten())"
   ]
  },
  {
   "cell_type": "code",
   "execution_count": 25,
   "id": "possible-vegetable",
   "metadata": {},
   "outputs": [
    {
     "data": {
      "text/plain": [
       "<matplotlib.legend.Legend at 0x7fd2d444a7d0>"
      ]
     },
     "execution_count": 25,
     "metadata": {},
     "output_type": "execute_result"
    },
    {
     "data": {
      "image/png": "[encoded data removed]",
      "text/plain": [
       "<Figure size 432x288 with 1 Axes>"
      ]
     },
     "metadata": {
      "needs_background": "light"
     },
     "output_type": "display_data"
    }
   ],
   "source": [
    "for i in range(len(Ts)):\n",
    "    T = Ts[i]\n",
    "    sns.histplot(forward_works[i], stat='density', color = colors[i], label=f\"T:{T}\")\n",
    "    sns.histplot(-backward_works[i], stat='density', color = colors[i], label=f\"T:{T}\")\n",
    "plt.vlines(true_f, ymin=0, ymax=0.15, color='k', label=\"$- \\log Z$\", lw=3)\n",
    "plt.title(f\"MCMC SMC Sampler\")\n",
    "#plt.xlim(true_f - 20, true_f + 20)\n",
    "plt.legend()"
   ]
  },
  {
   "cell_type": "markdown",
   "id": "neutral-fossil",
   "metadata": {},
   "source": [
    "so it looks like we can get somewhere..."
   ]
  },
  {
   "cell_type": "markdown",
   "id": "technical-excellence",
   "metadata": {},
   "source": [
    "can we plot the free energy from EXP fwd/bkwd/bar/symmetric estimator?!"
   ]
  },
  {
   "cell_type": "code",
   "execution_count": 26,
   "id": "organizational-bulgarian",
   "metadata": {},
   "outputs": [],
   "source": [
    "from pymbar import BAR"
   ]
  },
  {
   "cell_type": "code",
   "execution_count": 27,
   "id": "demonstrated-turkish",
   "metadata": {},
   "outputs": [],
   "source": [
    "#compute the BAR estimates\n",
    "def bootstrap_BAR(forward_works, backward_works, num_bootstraps):\n",
    "    BARs = []\n",
    "    for i in range(num_bootstraps):\n",
    "        random_fwd = np.random.choice(forward_works, len(forward_works))\n",
    "        random_bkwd = np.random.choice(backward_works, len(backward_works))\n",
    "        dg, ddg = BAR(random_fwd, random_bkwd)\n",
    "        BARs.append(dg)\n",
    "    return np.array(BARs)"
   ]
  },
  {
   "cell_type": "code",
   "execution_count": 28,
   "id": "foreign-digit",
   "metadata": {},
   "outputs": [],
   "source": [
    "bar_estimates = []\n",
    "for i in range(len(Ts)):\n",
    "    bootstraps = bootstrap_BAR(forward_works[i], backward_works[i], 1000)\n",
    "    bar_estimates.append(bootstraps)"
   ]
  },
  {
   "cell_type": "code",
   "execution_count": 29,
   "id": "brazilian-activity",
   "metadata": {},
   "outputs": [],
   "source": [
    "BAR_MSE = [MSE(x) for x in bar_estimates]"
   ]
  },
  {
   "cell_type": "code",
   "execution_count": 30,
   "id": "useful-aquatic",
   "metadata": {},
   "outputs": [
    {
     "data": {
      "text/plain": [
       "[8678.208645873743, 69.92504288584553, 2.4549924836181285, 0.12355136420696507]"
      ]
     },
     "execution_count": 30,
     "metadata": {},
     "output_type": "execute_result"
    }
   ],
   "source": [
    "BAR_MSE"
   ]
  },
  {
   "cell_type": "code",
   "execution_count": 32,
   "id": "varied-debut",
   "metadata": {},
   "outputs": [],
   "source": [
    "from melange_lite.utils.analysis import bootstrap, symmetric_f, free_energy, there_and_back_f"
   ]
  },
  {
   "cell_type": "code",
   "execution_count": 33,
   "id": "fifteen-juice",
   "metadata": {},
   "outputs": [
    {
     "name": "stdout",
     "output_type": "stream",
     "text": [
      "0\n",
      "1\n",
      "2\n",
      "3\n"
     ]
    }
   ],
   "source": [
    "symm, exp_fwd, exp_bkwd, tb = [], [], [], []\n",
    "for i in range(len(Ts)):\n",
    "    print(i)\n",
    "    _fwd_work, _bkwd_work = forward_works[i], backward_works[i]\n",
    "    interim_symm, interim_exp_fwd, interim_exp_bkwd, interim_tb = [], [], [], []\n",
    "    for i in range(1000):\n",
    "        fwd_work = np.random.choice(_fwd_work, len(_fwd_work))\n",
    "        bkwd_work = np.random.choice(_bkwd_work, len(_bkwd_work))\n",
    "        exp_f = free_energy(fwd_work)\n",
    "        exp_b = free_energy(bkwd_work)\n",
    "        _symm = symmetric_f(fwd_work, bkwd_work)\n",
    "        _tb = there_and_back_f(fwd_work, bkwd_work)\n",
    "        interim_symm.append(_symm)\n",
    "        interim_exp_fwd.append(exp_f)\n",
    "        interim_exp_bkwd.append(-exp_b)\n",
    "        interim_tb.append(_tb)\n",
    "    symm.append(np.array(interim_symm))\n",
    "    exp_fwd.append(np.array(interim_exp_fwd))\n",
    "    exp_bkwd.append(np.array(interim_exp_bkwd))\n",
    "    tb.append(interim_tb)"
   ]
  },
  {
   "cell_type": "code",
   "execution_count": 34,
   "id": "satisfactory-health",
   "metadata": {},
   "outputs": [],
   "source": [
    "EXP_MSE = [MSE(x) for x in exp_fwd]\n",
    "SYM_MSE = [MSE(x) for x in symm]\n",
    "TB_MSE = [MSE(x) for x in tb]"
   ]
  },
  {
   "cell_type": "code",
   "execution_count": 35,
   "id": "derived-robin",
   "metadata": {},
   "outputs": [
    {
     "data": {
      "text/plain": [
       "[169800.1760325474, 2363.3335071482334, 22.35003035664572, 9.690647733919173]"
      ]
     },
     "execution_count": 35,
     "metadata": {},
     "output_type": "execute_result"
    }
   ],
   "source": [
    "EXP_MSE"
   ]
  },
  {
   "cell_type": "code",
   "execution_count": 36,
   "id": "equal-village",
   "metadata": {},
   "outputs": [
    {
     "data": {
      "text/plain": [
       "[169229.42900205142, 2296.729051746141, 16.439267130489238, 5.9190386429818345]"
      ]
     },
     "execution_count": 36,
     "metadata": {},
     "output_type": "execute_result"
    }
   ],
   "source": [
    "TB_MSE"
   ]
  },
  {
   "cell_type": "code",
   "execution_count": 38,
   "id": "composed-adaptation",
   "metadata": {},
   "outputs": [
    {
     "data": {
      "text/plain": [
       "<matplotlib.legend.Legend at 0x7fd2cf73c990>"
      ]
     },
     "execution_count": 38,
     "metadata": {},
     "output_type": "execute_result"
    },
    {
     "data": {
      "image/png": "[encoded data removed]",
      "text/plain": [
       "<Figure size 432x288 with 1 Axes>"
      ]
     },
     "metadata": {
      "needs_background": "light"
     },
     "output_type": "display_data"
    }
   ],
   "source": [
    "for i in range(len(Ts)):\n",
    "    plt.scatter(Ts[i], BAR_MSE[i], color=colors[0], label='BAR' if i==len(Ts)-1 else None)\n",
    "    plt.scatter(Ts[i], EXP_MSE[i], color=colors[1], label='fwd EXP' if i==len(Ts)-1 else None)\n",
    "    plt.scatter(Ts[i], SYM_MSE[i], color = colors[2], label='SYM' if i==len(Ts)-1 else None)\n",
    "    plt.scatter(Ts[i], TB_MSE[i], color = colors[3], label=\"there_and_back\" if i==len(Ts)-1 else None)\n",
    "plt.yscale('log')\n",
    "plt.xscale('log')\n",
    "plt.xlabel(f\"annealing time\")\n",
    "plt.ylabel(\"f MSE\")\n",
    "plt.title(\"Variable annealing time Free energy MSEs for independent fwd/bkwd trajectories\")\n",
    "plt.legend()"
   ]
  },
  {
   "cell_type": "markdown",
   "id": "electrical-integer",
   "metadata": {},
   "source": [
    "of course, all of these data are predicated on you being able to sample equilibrium at lambda=0,1..."
   ]
  },
  {
   "cell_type": "markdown",
   "id": "everyday-attendance",
   "metadata": {},
   "source": [
    "# Symmetric Protocol MCMC SMC Sampler\n",
    "let's try to define a series of symmetric protocols and run them with an MCMC SMC Sampler..."
   ]
  },
  {
   "cell_type": "code",
   "execution_count": 66,
   "id": "disabled-elements",
   "metadata": {},
   "outputs": [
    {
     "name": "stdout",
     "output_type": "stream",
     "text": [
      "9\n"
     ]
    }
   ],
   "source": [
    "N=248\n",
    "L=32\n",
    "T = 5\n",
    "direction = [0,1]\n",
    "kT_schedule = jnp.append(jnp.linspace(0,1,T), jnp.linspace(1,0,T)[1:])\n",
    "IW_parameters = jnp.hstack([jnp.ones(2*T - 1)[..., jnp.newaxis], #J\n",
    "                                                                         jnp.zeros(2*T - 1)[..., jnp.newaxis], #h\n",
    "                                                                         kT_schedule[..., jnp.newaxis] #beta\n",
    "                                                                          ])\n",
    "print(len(IW_parameters))"
   ]
  },
  {
   "cell_type": "code",
   "execution_count": 172,
   "id": "bulgarian-inspector",
   "metadata": {},
   "outputs": [],
   "source": [
    "smc_factory = TrainableIsingsModellSMCSampler(T=len(IW_parameters), \n",
    "                                              N=N, \n",
    "                                              IW_parameters= IW_parameters,\n",
    "                                              L=L, \n",
    "                                              full_scan=True,\n",
    "                                              MCMC=False\n",
    "                                              )\n",
    "smc_work_fn = smc_factory.works()\n",
    "kernel_kT_schedule = jnp.append(jnp.linspace(0,1,T)[1:], jnp.linspace(1,0,T)[:-1])\n",
    "kernel_kT_schedule_len = len(kernel_kT_schedule)\n",
    "kernel_parameters = jnp.hstack([jnp.ones(kernel_kT_schedule_len)[..., jnp.newaxis], #J\n",
    "                                jnp.zeros(kernel_kT_schedule_len)[..., jnp.newaxis], #h\n",
    "                                kernel_kT_schedule[..., jnp.newaxis] #beta\n",
    "                               ])"
   ]
  },
  {
   "cell_type": "code",
   "execution_count": 173,
   "id": "revolutionary-developer",
   "metadata": {},
   "outputs": [
    {
     "data": {
      "text/plain": [
       "DeviceArray([[1.        , 0.        , 0.11111111],\n",
       "             [1.        , 0.        , 0.22222222],\n",
       "             [1.        , 0.        , 0.33333333],\n",
       "             [1.        , 0.        , 0.44444444],\n",
       "             [1.        , 0.        , 0.55555556],\n",
       "             [1.        , 0.        , 0.66666667],\n",
       "             [1.        , 0.        , 0.77777778],\n",
       "             [1.        , 0.        , 0.88888889],\n",
       "             [1.        , 0.        , 1.        ],\n",
       "             [1.        , 0.        , 1.        ],\n",
       "             [1.        , 0.        , 0.88888889],\n",
       "             [1.        , 0.        , 0.77777778],\n",
       "             [1.        , 0.        , 0.66666667],\n",
       "             [1.        , 0.        , 0.55555556],\n",
       "             [1.        , 0.        , 0.44444444],\n",
       "             [1.        , 0.        , 0.33333333],\n",
       "             [1.        , 0.        , 0.22222222],\n",
       "             [1.        , 0.        , 0.11111111]], dtype=float64)"
      ]
     },
     "execution_count": 173,
     "metadata": {},
     "output_type": "execute_result"
    }
   ],
   "source": [
    "kernel_parameters"
   ]
  },
  {
   "cell_type": "code",
   "execution_count": 174,
   "id": "found-specification",
   "metadata": {},
   "outputs": [],
   "source": [
    "def work_fn(seed):\n",
    "    param_dict = {'seed': seed, 'kernel_parameters': kernel_parameters}\n",
    "    wks = smc_work_fn(param_dict)\n",
    "    cumulative_works = jnp.cumsum(wks, axis=0)\n",
    "    return cumulative_works"
   ]
  },
  {
   "cell_type": "code",
   "execution_count": 175,
   "id": "controversial-sampling",
   "metadata": {},
   "outputs": [],
   "source": [
    "seed = random.PRNGKey(45324623)\n",
    "works = work_fn(seed)"
   ]
  },
  {
   "cell_type": "code",
   "execution_count": 176,
   "id": "broke-floor",
   "metadata": {},
   "outputs": [
    {
     "data": {
      "text/plain": [
       "(19, 248)"
      ]
     },
     "execution_count": 176,
     "metadata": {},
     "output_type": "execute_result"
    }
   ],
   "source": [
    "works.shape"
   ]
  },
  {
   "cell_type": "code",
   "execution_count": 177,
   "id": "dominican-pendant",
   "metadata": {},
   "outputs": [
    {
     "data": {
      "image/png": "[encoded data removed]",
      "text/plain": [
       "<Figure size 432x288 with 1 Axes>"
      ]
     },
     "metadata": {
      "needs_background": "light"
     },
     "output_type": "display_data"
    }
   ],
   "source": [
    "for i in range(N):\n",
    "    plt.plot(works[:,i], color=colors[0], alpha=0.3)"
   ]
  },
  {
   "cell_type": "markdown",
   "id": "fleet-anger",
   "metadata": {},
   "source": [
    "check to make sure the sequence of IW kT vals and kernel kT values are correct..."
   ]
  },
  {
   "cell_type": "code",
   "execution_count": 178,
   "id": "confused-munich",
   "metadata": {},
   "outputs": [],
   "source": [
    "# for i in range(smc_factory.T - 1):\n",
    "#     print(f\"kernel_parameter: {kernel_parameters[i][-1]}\")\n",
    "#     print(f\"old IW parameter: {kT_schedule[i]}\")\n",
    "#     print(f\"new IW parameter: {kT_schedule[i+1]}\")\n",
    "#     print()"
   ]
  },
  {
   "cell_type": "code",
   "execution_count": 179,
   "id": "flush-tuesday",
   "metadata": {},
   "outputs": [
    {
     "data": {
      "text/plain": [
       "19"
      ]
     },
     "execution_count": 179,
     "metadata": {},
     "output_type": "execute_result"
    }
   ],
   "source": [
    "len(works[:,0])"
   ]
  },
  {
   "cell_type": "code",
   "execution_count": 181,
   "id": "automated-nursing",
   "metadata": {},
   "outputs": [
    {
     "data": {
      "text/plain": [
       "(19, 248)"
      ]
     },
     "execution_count": 181,
     "metadata": {},
     "output_type": "execute_result"
    }
   ],
   "source": [
    "works.shape"
   ]
  },
  {
   "cell_type": "code",
   "execution_count": 182,
   "id": "arbitrary-warning",
   "metadata": {},
   "outputs": [
    {
     "data": {
      "text/plain": [
       "DeviceArray([   0.        ,   -0.88888889,   -9.33333333,  -38.66666667,\n",
       "              -99.55555556, -196.88888889, -323.11111111, -468.44444444,\n",
       "             -636.        , -814.66666667, -624.        , -428.88888889,\n",
       "             -232.44444444,  -37.33333333,  144.88888889,  300.        ,\n",
       "              411.55555556,  491.11111111,  550.22222222], dtype=float64)"
      ]
     },
     "execution_count": 182,
     "metadata": {},
     "output_type": "execute_result"
    }
   ],
   "source": [
    "works[:,0]"
   ]
  },
  {
   "cell_type": "code",
   "execution_count": 183,
   "id": "distinguished-texas",
   "metadata": {},
   "outputs": [
    {
     "data": {
      "text/plain": [
       "DeviceArray(-657.33333333, dtype=float64)"
      ]
     },
     "execution_count": 183,
     "metadata": {},
     "output_type": "execute_result"
    }
   ],
   "source": [
    "works[8,1]"
   ]
  },
  {
   "cell_type": "code",
   "execution_count": 184,
   "id": "capital-projector",
   "metadata": {},
   "outputs": [
    {
     "data": {
      "text/plain": [
       "DeviceArray(-846.66666667, dtype=float64)"
      ]
     },
     "execution_count": 184,
     "metadata": {},
     "output_type": "execute_result"
    }
   ],
   "source": [
    "works[9,1]"
   ]
  },
  {
   "cell_type": "code",
   "execution_count": 185,
   "id": "black-attack",
   "metadata": {},
   "outputs": [
    {
     "data": {
      "text/plain": [
       "DeviceArray(-647.55555556, dtype=float64)"
      ]
     },
     "execution_count": 185,
     "metadata": {},
     "output_type": "execute_result"
    }
   ],
   "source": [
    "works[10,1]"
   ]
  },
  {
   "cell_type": "code",
   "execution_count": 186,
   "id": "blond-pilot",
   "metadata": {},
   "outputs": [],
   "source": [
    "forward_works = works[9,:]\n",
    "backward_works = works[-1,:] - forward_works"
   ]
  },
  {
   "cell_type": "code",
   "execution_count": 187,
   "id": "authorized-assets",
   "metadata": {},
   "outputs": [
    {
     "data": {
      "text/plain": [
       "DeviceArray(-926.70046289, dtype=float64)"
      ]
     },
     "execution_count": 187,
     "metadata": {},
     "output_type": "execute_result"
    }
   ],
   "source": [
    "symmetric_f(forward_works, backward_works)"
   ]
  },
  {
   "cell_type": "code",
   "execution_count": 188,
   "id": "super-qualification",
   "metadata": {},
   "outputs": [
    {
     "data": {
      "text/plain": [
       "DeviceArray(-926.70046289, dtype=float64)"
      ]
     },
     "execution_count": 188,
     "metadata": {},
     "output_type": "execute_result"
    }
   ],
   "source": [
    "symmetric_f_v2(forward_works, backward_works)"
   ]
  },
  {
   "cell_type": "code",
   "execution_count": 191,
   "id": "metallic-commodity",
   "metadata": {},
   "outputs": [
    {
     "data": {
      "text/plain": [
       "<matplotlib.collections.PathCollection at 0x7ff7207495d0>"
      ]
     },
     "execution_count": 191,
     "metadata": {},
     "output_type": "execute_result"
    },
    {
     "data": {
      "image/png": "[encoded data removed]",
      "text/plain": [
       "<Figure size 432x288 with 1 Axes>"
      ]
     },
     "metadata": {
      "needs_background": "light"
     },
     "output_type": "display_data"
    }
   ],
   "source": [
    "plt.scatter(forward_works, -backward_works)\n"
   ]
  },
  {
   "cell_type": "code",
   "execution_count": 192,
   "id": "aging-helena",
   "metadata": {},
   "outputs": [],
   "source": [
    "N = len(forward_works)\n",
    "max_forwards = jnp.max(forward_works)\n",
    "offset_forwards = forward_works - max_forwards\n",
    "offset_backwards = backward_works + max_forwards"
   ]
  },
  {
   "cell_type": "code",
   "execution_count": 196,
   "id": "peaceful-dependence",
   "metadata": {},
   "outputs": [
    {
     "data": {
      "text/plain": [
       "DeviceArray(-758.22222222, dtype=float64)"
      ]
     },
     "execution_count": 196,
     "metadata": {},
     "output_type": "execute_result"
    }
   ],
   "source": [
    "max_forwards"
   ]
  },
  {
   "cell_type": "code",
   "execution_count": 197,
   "id": "fatal-father",
   "metadata": {},
   "outputs": [],
   "source": [
    "summant = (jnp.exp(offset_forwards) + jnp.exp(-offset_backwards))"
   ]
  },
  {
   "cell_type": "code",
   "execution_count": 198,
   "id": "welcome-cartoon",
   "metadata": {},
   "outputs": [
    {
     "data": {
      "text/plain": [
       "(array([246.,   1.,   0.,   0.,   0.,   0.,   0.,   0.,   0.,   1.]),\n",
       " array([1.39069052e-76, 1.00000000e-01, 2.00000000e-01, 3.00000000e-01,\n",
       "        4.00000000e-01, 5.00000000e-01, 6.00000000e-01, 7.00000000e-01,\n",
       "        8.00000000e-01, 9.00000000e-01, 1.00000000e+00]),\n",
       " <BarContainer object of 10 artists>)"
      ]
     },
     "execution_count": 198,
     "metadata": {},
     "output_type": "execute_result"
    },
    {
     "data": {
      "image/png": "[encoded data removed]",
      "text/plain": [
       "<Figure size 432x288 with 1 Axes>"
      ]
     },
     "metadata": {
      "needs_background": "light"
     },
     "output_type": "display_data"
    }
   ],
   "source": [
    "plt.hist(summant)"
   ]
  },
  {
   "cell_type": "markdown",
   "id": "simple-worse",
   "metadata": {},
   "source": [
    "alright, so it doesn't _look_ buggy. However, it does look like few values are dominating the free energy estimate..."
   ]
  },
  {
   "cell_type": "markdown",
   "id": "closing-carolina",
   "metadata": {},
   "source": [
    "# TODO:\n",
    "- train the trainable MCMC SMC Sampler on temperature (EXP)\n",
    "- build the spatial ising model\n",
    "    - allow for spatially-varying magnetic field\n",
    "    - try from beta=0 to beta=1...no external magnetic field\n",
    "- train the spatial ising model\n",
    "- train the spatial ising model with a spatially-varying magnetic field (EXP)\n",
    "- do the above (SYMMETRIC)"
   ]
  },
  {
   "cell_type": "code",
   "execution_count": null,
   "id": "better-expression",
   "metadata": {},
   "outputs": [],
   "source": []
  }
 ],
 "metadata": {
  "kernelspec": {
   "display_name": "Python 3",
   "language": "python",
   "name": "python3"
  },
  "language_info": {
   "codemirror_mode": {
    "name": "ipython",
    "version": 3
   },
   "file_extension": ".py",
   "mimetype": "text/x-python",
   "name": "python",
   "nbconvert_exporter": "python",
   "pygments_lexer": "ipython3",
   "version": "3.7.9"
  }
 },
 "nbformat": 4,
 "nbformat_minor": 5
}
