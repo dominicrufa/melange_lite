{
 "cells": [
  {
   "cell_type": "markdown",
   "id": "musical-influence",
   "metadata": {},
   "source": [
    "# Meta Learning because Jax experimental is a pain..."
   ]
  },
  {
   "cell_type": "markdown",
   "id": "copyrighted-punch",
   "metadata": {},
   "source": [
    "this is just a little sandbox to play around with [this](https://blog.evjang.com/2019/02/maml-jax.html)"
   ]
  },
  {
   "cell_type": "code",
   "execution_count": 1,
   "id": "dirty-slide",
   "metadata": {},
   "outputs": [],
   "source": [
    "from jax import numpy as jnp\n",
    "import numpy as np\n",
    "from jax.config import config; config.update(\"jax_enable_x64\", True)\n",
    "from jax import lax, ops, vmap, jit, grad, random, lax"
   ]
  },
  {
   "cell_type": "code",
   "execution_count": 2,
   "id": "novel-substance",
   "metadata": {},
   "outputs": [],
   "source": [
    "%matplotlib inline\n",
    "\n",
    "import matplotlib\n",
    "import numpy as np\n",
    "import matplotlib.pyplot as plt\n",
    "import seaborn as sns\n",
    "prop_cycle = plt.rcParams['axes.prop_cycle']\n",
    "colors = prop_cycle.by_key()['color']"
   ]
  },
  {
   "cell_type": "code",
   "execution_count": 3,
   "id": "inside-programming",
   "metadata": {},
   "outputs": [],
   "source": [
    "from jax.experimental import stax\n",
    "from jax.experimental.stax import Conv, Dense, MaxPool, Relu, Flatten, LogSoftmax"
   ]
  },
  {
   "cell_type": "code",
   "execution_count": 5,
   "id": "nearby-people",
   "metadata": {},
   "outputs": [
    {
     "ename": "TypeError",
     "evalue": "init_fun() missing 1 required positional argument: 'input_shape'",
     "output_type": "error",
     "traceback": [
      "\u001b[0;31m---------------------------------------------------------------------------\u001b[0m",
      "\u001b[0;31mTypeError\u001b[0m                                 Traceback (most recent call last)",
      "\u001b[0;32m<ipython-input-5-eb78a6db2bb1>\u001b[0m in \u001b[0;36m<module>\u001b[0;34m\u001b[0m\n\u001b[1;32m      1\u001b[0m \u001b[0mnet_init\u001b[0m\u001b[0;34m,\u001b[0m \u001b[0mnet_apply\u001b[0m \u001b[0;34m=\u001b[0m \u001b[0mstax\u001b[0m\u001b[0;34m.\u001b[0m\u001b[0mserial\u001b[0m\u001b[0;34m(\u001b[0m\u001b[0mDense\u001b[0m\u001b[0;34m(\u001b[0m\u001b[0;36m40\u001b[0m\u001b[0;34m)\u001b[0m\u001b[0;34m,\u001b[0m \u001b[0mRelu\u001b[0m\u001b[0;34m,\u001b[0m \u001b[0mDense\u001b[0m\u001b[0;34m(\u001b[0m\u001b[0;36m40\u001b[0m\u001b[0;34m)\u001b[0m\u001b[0;34m,\u001b[0m \u001b[0mRelu\u001b[0m\u001b[0;34m,\u001b[0m \u001b[0mDense\u001b[0m\u001b[0;34m(\u001b[0m\u001b[0;36m1\u001b[0m\u001b[0;34m)\u001b[0m\u001b[0;34m)\u001b[0m\u001b[0;34m\u001b[0m\u001b[0;34m\u001b[0m\u001b[0m\n\u001b[1;32m      2\u001b[0m \u001b[0min_shape\u001b[0m \u001b[0;34m=\u001b[0m \u001b[0;34m(\u001b[0m\u001b[0;34m-\u001b[0m\u001b[0;36m1\u001b[0m\u001b[0;34m,\u001b[0m\u001b[0;36m1\u001b[0m\u001b[0;34m,\u001b[0m\u001b[0;34m)\u001b[0m\u001b[0;34m\u001b[0m\u001b[0;34m\u001b[0m\u001b[0m\n\u001b[0;32m----> 3\u001b[0;31m \u001b[0mout_shape\u001b[0m\u001b[0;34m,\u001b[0m \u001b[0mnet_params\u001b[0m \u001b[0;34m=\u001b[0m \u001b[0mnet_init\u001b[0m\u001b[0;34m(\u001b[0m\u001b[0min_shape\u001b[0m\u001b[0;34m)\u001b[0m\u001b[0;34m\u001b[0m\u001b[0;34m\u001b[0m\u001b[0m\n\u001b[0m",
      "\u001b[0;31mTypeError\u001b[0m: init_fun() missing 1 required positional argument: 'input_shape'"
     ]
    }
   ],
   "source": [
    "net_init, net_apply = stax.serial(Dense(40), Relu, Dense(40), Relu, Dense(1))\n",
    "in_shape = (-1,1,)\n",
    "out_shape, net_params = net_init(in_shape)"
   ]
  },
  {
   "cell_type": "code",
   "execution_count": null,
   "id": "involved-prayer",
   "metadata": {},
   "outputs": [],
   "source": []
  },
  {
   "cell_type": "code",
   "execution_count": 15,
   "id": "comprehensive-verification",
   "metadata": {},
   "outputs": [],
   "source": [
    "\n",
    "import numpy as onp\n",
    "from jax.experimental import optimizers\n",
    "from jax.tree_util import tree_multimap "
   ]
  },
  {
   "cell_type": "code",
   "execution_count": 16,
   "id": "substantial-adapter",
   "metadata": {},
   "outputs": [],
   "source": [
    "opt_init, opt_update, get_params = optimizers.adam(step_size=1e-2)"
   ]
  },
  {
   "cell_type": "code",
   "execution_count": 17,
   "id": "oriented-thermal",
   "metadata": {},
   "outputs": [
    {
     "data": {
      "text/plain": [
       "<function jax.experimental.optimizers.adam.<locals>.init(x0)>"
      ]
     },
     "execution_count": 17,
     "metadata": {},
     "output_type": "execute_result"
    }
   ],
   "source": [
    "opt_init"
   ]
  },
  {
   "cell_type": "code",
   "execution_count": 26,
   "id": "revolutionary-documentary",
   "metadata": {},
   "outputs": [],
   "source": [
    "opt_state = get_params(opt_init(jnp.ones((3,4))))"
   ]
  },
  {
   "cell_type": "code",
   "execution_count": 27,
   "id": "mobile-message",
   "metadata": {},
   "outputs": [],
   "source": [
    "a,b,c = opt_state"
   ]
  },
  {
   "cell_type": "code",
   "execution_count": null,
   "id": "blind-patch",
   "metadata": {},
   "outputs": [],
   "source": []
  }
 ],
 "metadata": {
  "kernelspec": {
   "display_name": "Python 3",
   "language": "python",
   "name": "python3"
  },
  "language_info": {
   "codemirror_mode": {
    "name": "ipython",
    "version": 3
   },
   "file_extension": ".py",
   "mimetype": "text/x-python",
   "name": "python",
   "nbconvert_exporter": "python",
   "pygments_lexer": "ipython3",
   "version": "3.7.9"
  }
 },
 "nbformat": 4,
 "nbformat_minor": 5
}
