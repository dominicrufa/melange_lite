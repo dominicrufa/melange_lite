{
 "cells": [
  {
   "cell_type": "markdown",
   "id": "sexual-field",
   "metadata": {},
   "source": [
    "# The Ising Model\n",
    "Here, I'll actually do fwd/backward switching in a symmetric manner"
   ]
  },
  {
   "cell_type": "markdown",
   "id": "fewer-banner",
   "metadata": {},
   "source": [
    "## Imports"
   ]
  },
  {
   "cell_type": "code",
   "execution_count": 1,
   "id": "floppy-share",
   "metadata": {},
   "outputs": [],
   "source": [
    "from jax import numpy as jnp\n",
    "import numpy as np\n",
    "from jax.config import config; config.update(\"jax_enable_x64\", True)\n",
    "from jax import lax, ops, vmap, jit, grad, random, lax"
   ]
  },
  {
   "cell_type": "code",
   "execution_count": 2,
   "id": "critical-confidence",
   "metadata": {},
   "outputs": [],
   "source": [
    "%matplotlib inline\n",
    "\n",
    "import matplotlib\n",
    "import numpy as np\n",
    "import matplotlib.pyplot as plt\n",
    "import seaborn as sns\n",
    "prop_cycle = plt.rcParams['axes.prop_cycle']\n",
    "colors = prop_cycle.by_key()['color']"
   ]
  },
  {
   "cell_type": "code",
   "execution_count": 3,
   "id": "figured-possible",
   "metadata": {},
   "outputs": [],
   "source": [
    "from melange_lite.magnets.utils import *\n",
    "from melange_lite.magnets.ising_modell import IsingsModellSMCMCMCSampler, TrainableIsingsModellSMCSampler"
   ]
  },
  {
   "cell_type": "markdown",
   "id": "simplified-prompt",
   "metadata": {},
   "source": [
    "# Symmetric Protocol MCMC SMC Sampler\n",
    "let's try to define a series of symmetric protocols and run them with an MCMC SMC Sampler..."
   ]
  },
  {
   "cell_type": "code",
   "execution_count": 4,
   "id": "worthy-inquiry",
   "metadata": {},
   "outputs": [
    {
     "name": "stderr",
     "output_type": "stream",
     "text": [
      "WARNING:absl:No GPU/TPU found, falling back to CPU. (Set TF_CPP_MIN_LOG_LEVEL=0 and rerun for more info.)\n"
     ]
    },
    {
     "name": "stdout",
     "output_type": "stream",
     "text": [
      "9\n"
     ]
    }
   ],
   "source": [
    "N=248\n",
    "L=32\n",
    "T = 5\n",
    "direction = [0,1]\n",
    "kT_schedule = jnp.append(jnp.linspace(0,1,T), jnp.linspace(1,0,T)[1:])\n",
    "IW_parameters = jnp.hstack([jnp.ones(2*T - 1)[..., jnp.newaxis], #J\n",
    "                                                                         jnp.zeros(2*T - 1)[..., jnp.newaxis], #h\n",
    "                                                                         kT_schedule[..., jnp.newaxis] #beta\n",
    "                                                                          ])\n",
    "print(len(IW_parameters))"
   ]
  },
  {
   "cell_type": "code",
   "execution_count": 5,
   "id": "palestinian-debut",
   "metadata": {},
   "outputs": [
    {
     "data": {
      "text/plain": [
       "DeviceArray([0.  , 0.25, 0.5 , 0.75, 1.  , 0.75, 0.5 , 0.25, 0.  ], dtype=float64)"
      ]
     },
     "execution_count": 5,
     "metadata": {},
     "output_type": "execute_result"
    }
   ],
   "source": [
    "kT_schedule"
   ]
  },
  {
   "cell_type": "code",
   "execution_count": 6,
   "id": "lyric-kuwait",
   "metadata": {},
   "outputs": [],
   "source": [
    "smc_factory = TrainableIsingsModellSMCSampler(T=len(IW_parameters), \n",
    "                                              N=N, \n",
    "                                              IW_parameters= IW_parameters,\n",
    "                                              L=L, \n",
    "                                              full_scan=True,\n",
    "                                              MCMC=False\n",
    "                                              )\n",
    "smc_work_fn = smc_factory.works()\n",
    "kernel_kT_schedule = jnp.append(jnp.linspace(0,1,T)[1:], jnp.linspace(1,0,T)[:-1])\n",
    "kernel_kT_schedule_len = len(kernel_kT_schedule)\n",
    "kernel_parameters = jnp.hstack([jnp.ones(kernel_kT_schedule_len)[..., jnp.newaxis], #J\n",
    "                                jnp.zeros(kernel_kT_schedule_len)[..., jnp.newaxis], #h\n",
    "                                kernel_kT_schedule[..., jnp.newaxis] #beta\n",
    "                               ])"
   ]
  },
  {
   "cell_type": "code",
   "execution_count": 7,
   "id": "prescription-frost",
   "metadata": {},
   "outputs": [
    {
     "data": {
      "text/plain": [
       "DeviceArray([[1.  , 0.  , 0.25],\n",
       "             [1.  , 0.  , 0.5 ],\n",
       "             [1.  , 0.  , 0.75],\n",
       "             [1.  , 0.  , 1.  ],\n",
       "             [1.  , 0.  , 1.  ],\n",
       "             [1.  , 0.  , 0.75],\n",
       "             [1.  , 0.  , 0.5 ],\n",
       "             [1.  , 0.  , 0.25]], dtype=float64)"
      ]
     },
     "execution_count": 7,
     "metadata": {},
     "output_type": "execute_result"
    }
   ],
   "source": [
    "kernel_parameters"
   ]
  },
  {
   "cell_type": "code",
   "execution_count": 8,
   "id": "inclusive-round",
   "metadata": {},
   "outputs": [],
   "source": [
    "def work_fn(seed):\n",
    "    param_dict = {'seed': seed, 'kernel_parameters': kernel_parameters}\n",
    "    wks = smc_work_fn(param_dict)\n",
    "    cumulative_works = jnp.cumsum(wks, axis=0)\n",
    "    return cumulative_works"
   ]
  },
  {
   "cell_type": "code",
   "execution_count": 9,
   "id": "younger-shelter",
   "metadata": {},
   "outputs": [],
   "source": [
    "seed = random.PRNGKey(45324623)\n",
    "works = work_fn(seed)"
   ]
  },
  {
   "cell_type": "code",
   "execution_count": 10,
   "id": "planned-house",
   "metadata": {},
   "outputs": [
    {
     "data": {
      "text/plain": [
       "(9, 248)"
      ]
     },
     "execution_count": 10,
     "metadata": {},
     "output_type": "execute_result"
    }
   ],
   "source": [
    "works.shape"
   ]
  },
  {
   "cell_type": "code",
   "execution_count": 11,
   "id": "cross-diploma",
   "metadata": {},
   "outputs": [
    {
     "data": {
      "image/png": "[encoded data removed]",
      "text/plain": [
       "<Figure size 432x288 with 1 Axes>"
      ]
     },
     "metadata": {
      "needs_background": "light"
     },
     "output_type": "display_data"
    }
   ],
   "source": [
    "for i in range(N):\n",
    "    plt.plot(works[:,i], color=colors[0], alpha=0.3)"
   ]
  },
  {
   "cell_type": "markdown",
   "id": "european-forestry",
   "metadata": {},
   "source": [
    "check to make sure the sequence of IW kT vals and kernel kT values are correct..."
   ]
  },
  {
   "cell_type": "code",
   "execution_count": 25,
   "id": "robust-deviation",
   "metadata": {},
   "outputs": [],
   "source": [
    "forward_works = works[4,:]\n",
    "backward_works = works[-1,:] - forward_works"
   ]
  },
  {
   "cell_type": "code",
   "execution_count": 29,
   "id": "liked-fruit",
   "metadata": {},
   "outputs": [],
   "source": [
    "from melange_lite.utils.analysis import bootstrap, symmetric_f, symmetric_f_v2, free_energy, there_and_back_f"
   ]
  },
  {
   "cell_type": "code",
   "execution_count": 30,
   "id": "polar-dance",
   "metadata": {},
   "outputs": [
    {
     "data": {
      "text/plain": [
       "DeviceArray(-674.79344753, dtype=float64)"
      ]
     },
     "execution_count": 30,
     "metadata": {},
     "output_type": "execute_result"
    }
   ],
   "source": [
    "symmetric_f(forward_works, backward_works)"
   ]
  },
  {
   "cell_type": "code",
   "execution_count": 34,
   "id": "amino-twist",
   "metadata": {},
   "outputs": [
    {
     "data": {
      "text/plain": [
       "DeviceArray(-676.17974189, dtype=float64)"
      ]
     },
     "execution_count": 34,
     "metadata": {},
     "output_type": "execute_result"
    }
   ],
   "source": [
    "there_and_back_f(forward_works, backward_works)"
   ]
  },
  {
   "cell_type": "code",
   "execution_count": 35,
   "id": "usual-denmark",
   "metadata": {},
   "outputs": [
    {
     "data": {
      "text/plain": [
       "<matplotlib.collections.PathCollection at 0x7f17b0648d90>"
      ]
     },
     "execution_count": 35,
     "metadata": {},
     "output_type": "execute_result"
    },
    {
     "data": {
      "image/png": "[encoded data removed]",
      "text/plain": [
       "<Figure size 432x288 with 1 Axes>"
      ]
     },
     "metadata": {
      "needs_background": "light"
     },
     "output_type": "display_data"
    }
   ],
   "source": [
    "plt.scatter(forward_works, -backward_works)\n"
   ]
  },
  {
   "cell_type": "markdown",
   "id": "sufficient-supervisor",
   "metadata": {},
   "source": [
    "# Variable T MCMC SMC Sampler with SYM and EXP\n",
    "here, I'll look at the free energy MSE profile of the SYM and EXP (comparing with BAR from `vanilla` notebook)"
   ]
  },
  {
   "cell_type": "code",
   "execution_count": 66,
   "id": "ethical-purpose",
   "metadata": {},
   "outputs": [
    {
     "name": "stderr",
     "output_type": "stream",
     "text": [
      "  0%|          | 0/10 [00:00<?, ?it/s]"
     ]
    },
    {
     "name": "stdout",
     "output_type": "stream",
     "text": [
      "running time length 0\n"
     ]
    },
    {
     "name": "stderr",
     "output_type": "stream",
     "text": [
      "100%|██████████| 10/10 [00:14<00:00,  1.41s/it]\n",
      "  0%|          | 0/10 [00:00<?, ?it/s]"
     ]
    },
    {
     "name": "stdout",
     "output_type": "stream",
     "text": [
      "running time length 1\n"
     ]
    },
    {
     "name": "stderr",
     "output_type": "stream",
     "text": [
      "100%|██████████| 10/10 [00:24<00:00,  2.43s/it]\n",
      "  0%|          | 0/10 [00:00<?, ?it/s]"
     ]
    },
    {
     "name": "stdout",
     "output_type": "stream",
     "text": [
      "running time length 2\n"
     ]
    },
    {
     "name": "stderr",
     "output_type": "stream",
     "text": [
      "100%|██████████| 10/10 [01:04<00:00,  6.44s/it]\n",
      "  0%|          | 0/10 [00:00<?, ?it/s]"
     ]
    },
    {
     "name": "stdout",
     "output_type": "stream",
     "text": [
      "running time length 3\n"
     ]
    },
    {
     "name": "stderr",
     "output_type": "stream",
     "text": [
      "100%|██████████| 10/10 [01:54<00:00, 11.42s/it]\n"
     ]
    }
   ],
   "source": [
    "N=10\n",
    "L=32\n",
    "\n",
    "import tqdm\n",
    "Ts = [5, 50, 250, 500]\n",
    "#Ts = [5,50]\n",
    "forward_works = []\n",
    "backward_works = []\n",
    "direction = [0,1]\n",
    "seed = random.PRNGKey(23423)\n",
    "for i in range(len(Ts)):\n",
    "    print(f\"running time length {i}\")\n",
    "    T = Ts[i]\n",
    "    kT_schedule = jnp.append(jnp.linspace(0,1,T), jnp.linspace(1,0,T)[1:])\n",
    "    IW_parameters = jnp.hstack([jnp.ones(2*T - 1)[..., jnp.newaxis], #J\n",
    "                                                                         jnp.zeros(2*T - 1)[..., jnp.newaxis], #h\n",
    "                                                                         kT_schedule[..., jnp.newaxis] #beta\n",
    "                                                                          ])\n",
    "    smc_factory = TrainableIsingsModellSMCSampler(T=len(IW_parameters), \n",
    "                                              N=N, \n",
    "                                              IW_parameters= IW_parameters,\n",
    "                                              L=L, \n",
    "                                              full_scan=True,\n",
    "                                              MCMC=False\n",
    "                                              )\n",
    "    smc_work_fn = smc_factory.works()\n",
    "    kernel_kT_schedule = jnp.append(jnp.linspace(0,1,T)[1:], jnp.linspace(1,0,T)[:-1])\n",
    "    kernel_kT_schedule_len = len(kernel_kT_schedule)\n",
    "    kernel_parameters = jnp.hstack([jnp.ones(kernel_kT_schedule_len)[..., jnp.newaxis], #J\n",
    "                                    jnp.zeros(kernel_kT_schedule_len)[..., jnp.newaxis], #h\n",
    "                                    kernel_kT_schedule[..., jnp.newaxis] #beta\n",
    "                                   ])\n",
    "    @jit\n",
    "    def work_fn(seed):\n",
    "        param_dict = {'seed': seed, 'kernel_parameters': kernel_parameters}\n",
    "        wks = smc_work_fn(param_dict)\n",
    "        cumulative_works = jnp.cumsum(wks, axis=0)\n",
    "        forward_works = cumulative_works[T-1]\n",
    "        backward_works = cumulative_works[-1] - forward_works\n",
    "        return forward_works, backward_works\n",
    "    \n",
    "    fwd_run_list, bkwd_run_list = [], []\n",
    "    for q in tqdm.trange(10):\n",
    "        run_seed, seed = random.split(seed)\n",
    "        fwd_works, bkwd_works = work_fn(run_seed)\n",
    "        fwd_run_list.append(fwd_works)\n",
    "        bkwd_run_list.append(bkwd_works)\n",
    "    forward_works.append(np.array(fwd_run_list).flatten())\n",
    "    backward_works.append(np.array(bkwd_run_list).flatten())\n",
    "    "
   ]
  },
  {
   "cell_type": "code",
   "execution_count": null,
   "id": "latest-tuesday",
   "metadata": {},
   "outputs": [],
   "source": []
  },
  {
   "cell_type": "code",
   "execution_count": null,
   "id": "committed-creek",
   "metadata": {},
   "outputs": [],
   "source": []
  },
  {
   "cell_type": "code",
   "execution_count": null,
   "id": "blond-beast",
   "metadata": {},
   "outputs": [],
   "source": []
  },
  {
   "cell_type": "code",
   "execution_count": 72,
   "id": "minus-services",
   "metadata": {},
   "outputs": [
    {
     "data": {
      "text/plain": [
       "<matplotlib.legend.Legend at 0x7f1703b1d090>"
      ]
     },
     "execution_count": 72,
     "metadata": {},
     "output_type": "execute_result"
    },
    {
     "data": {
      "image/png": "[encoded data removed]",
      "text/plain": [
       "<Figure size 432x288 with 1 Axes>"
      ]
     },
     "metadata": {
      "needs_background": "light"
     },
     "output_type": "display_data"
    }
   ],
   "source": [
    "for i in range(len(Ts)):\n",
    "    T = Ts[i]\n",
    "    sns.histplot(forward_works[i], color = colors[i], label=f\"T:{T}\")\n",
    "    sns.histplot(-backward_works[i], color=colors[i])\n",
    "plt.title(\"SMC Sampler\")\n",
    "plt.legend()"
   ]
  },
  {
   "cell_type": "code",
   "execution_count": null,
   "id": "pretty-requirement",
   "metadata": {},
   "outputs": [],
   "source": []
  },
  {
   "cell_type": "code",
   "execution_count": 74,
   "id": "broadband-infrastructure",
   "metadata": {},
   "outputs": [
    {
     "name": "stdout",
     "output_type": "stream",
     "text": [
      "0\n",
      "1\n",
      "2\n",
      "3\n"
     ]
    }
   ],
   "source": [
    "symm, exp_fwd, tb = [], [], []\n",
    "for i in range(len(Ts)):\n",
    "    print(i)\n",
    "    _fwd_work, _bkwd_work = forward_works[i], backward_works[i]\n",
    "    interim_symm, interim_exp_fwd, interim_tb = [], [], []\n",
    "    for i in range(1000):\n",
    "        indices = np.random.choice(range(len(_fwd_work)), len(_fwd_work))\n",
    "        fwd_work = _fwd_work[indices]\n",
    "        bkwd_work = _bkwd_work[indices]\n",
    "        exp_f = free_energy(fwd_work)\n",
    "        _symm = symmetric_f(fwd_work, bkwd_work)\n",
    "        _tb = there_and_back_f(fwd_work, bkwd_work)\n",
    "        interim_symm.append(_symm)\n",
    "        interim_exp_fwd.append(exp_f)\n",
    "        interim_tb.append(_tb)\n",
    "    symm.append(np.array(interim_symm))\n",
    "    exp_fwd.append(np.array(interim_exp_fwd))\n",
    "    tb.append(interim_tb)\n",
    "    "
   ]
  },
  {
   "cell_type": "code",
   "execution_count": 80,
   "id": "polyphonic-stable",
   "metadata": {},
   "outputs": [],
   "source": [
    "MSE = lambda x: (true_f - np.mean(x))**2 + np.var(x)"
   ]
  },
  {
   "cell_type": "code",
   "execution_count": 81,
   "id": "frequent-convertible",
   "metadata": {},
   "outputs": [],
   "source": [
    "true_f = -1339.27 # (cite)"
   ]
  },
  {
   "cell_type": "code",
   "execution_count": 82,
   "id": "veterinary-cheat",
   "metadata": {},
   "outputs": [],
   "source": [
    "symm_MSEs = np.array([MSE(x) for x in symm])\n",
    "exp_fwd_MSEs = np.array([MSE(x) for x in exp_fwd])\n",
    "tb_MSEs = np.array([MSE(x) for x in tb])"
   ]
  },
  {
   "cell_type": "code",
   "execution_count": 87,
   "id": "provincial-short",
   "metadata": {},
   "outputs": [
    {
     "data": {
      "text/plain": [
       "<matplotlib.legend.Legend at 0x7f1708b4ca90>"
      ]
     },
     "execution_count": 87,
     "metadata": {},
     "output_type": "execute_result"
    },
    {
     "data": {
      "image/png": "[encoded data removed]",
      "text/plain": [
       "<Figure size 432x288 with 1 Axes>"
      ]
     },
     "metadata": {
      "needs_background": "light"
     },
     "output_type": "display_data"
    }
   ],
   "source": [
    "for i in range(len(Ts)):\n",
    "    plt.scatter(Ts[i], symm_MSEs[i], color=colors[0], label='SYM' if i==len(Ts)-1 else None)\n",
    "    plt.scatter(Ts[i], exp_fwd_MSEs[i], color=colors[1], label='fwd EXP' if i==len(Ts)-1 else None)\n",
    "    plt.scatter(Ts[i], tb_MSEs[i], color = colors[2], label='there-and-back' if i==len(Ts)-1 else None)\n",
    "plt.yscale('log')\n",
    "plt.xscale('log')\n",
    "plt.xlabel(f\"annealing time\")\n",
    "plt.ylabel(\"f MSE\")\n",
    "plt.title(\"Variable annealing time Free energy MSEs for independent fwd/bkwd trajectories\")\n",
    "plt.legend()"
   ]
  }
 ],
 "metadata": {
  "kernelspec": {
   "display_name": "Python 3",
   "language": "python",
   "name": "python3"
  },
  "language_info": {
   "codemirror_mode": {
    "name": "ipython",
    "version": 3
   },
   "file_extension": ".py",
   "mimetype": "text/x-python",
   "name": "python",
   "nbconvert_exporter": "python",
   "pygments_lexer": "ipython3",
   "version": "3.7.9"
  }
 },
 "nbformat": 4,
 "nbformat_minor": 5
}
