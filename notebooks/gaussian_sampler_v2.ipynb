{
 "cells": [
  {
   "cell_type": "markdown",
   "id": "proper-movement",
   "metadata": {},
   "source": [
    "# Gaussian SMC Sampler\n",
    "this is a simple model for an SMC Sampler\n"
   ]
  },
  {
   "cell_type": "code",
   "execution_count": 1,
   "id": "executive-reading",
   "metadata": {},
   "outputs": [],
   "source": [
    "from melange_lite.melange_lite import GaussianSMCSamplerFactory"
   ]
  },
  {
   "cell_type": "code",
   "execution_count": 2,
   "id": "micro-marketing",
   "metadata": {},
   "outputs": [],
   "source": [
    "%matplotlib inline\n",
    "\n",
    "import matplotlib\n",
    "import numpy as np\n",
    "import matplotlib.pyplot as plt\n",
    "import seaborn as sns"
   ]
  },
  {
   "cell_type": "markdown",
   "id": "nuclear-peoples",
   "metadata": {},
   "source": [
    "## Test the Factory\n",
    "I am going to tease apart the factory to make sure it works as I would expect"
   ]
  },
  {
   "cell_type": "code",
   "execution_count": 3,
   "id": "previous-civilization",
   "metadata": {},
   "outputs": [],
   "source": [
    "from melange_lite.utils.gaussians import *\n",
    "from jax import random"
   ]
  },
  {
   "cell_type": "code",
   "execution_count": 4,
   "id": "imposed-basin",
   "metadata": {},
   "outputs": [
    {
     "name": "stderr",
     "output_type": "stream",
     "text": [
      "WARNING:absl:No GPU/TPU found, falling back to CPU. (Set TF_CPP_MIN_LOG_LEVEL=0 and rerun for more info.)\n"
     ]
    }
   ],
   "source": [
    "T=50\n",
    "start_mu, end_mu=0., 5.\n",
    "gaussian_cov = jnp.log(jnp.ones(T)[..., jnp.newaxis])\n",
    "mus = jnp.linspace(start_mu, end_mu, T)[..., jnp.newaxis]"
   ]
  },
  {
   "cell_type": "code",
   "execution_count": 5,
   "id": "upset-suicide",
   "metadata": {},
   "outputs": [],
   "source": [
    "IW_parameters = {'mu': mus, 'lcov_force': gaussian_cov}"
   ]
  },
  {
   "cell_type": "code",
   "execution_count": 6,
   "id": "through-saudi",
   "metadata": {},
   "outputs": [],
   "source": [
    "gsmc_factory = GaussianSMCSamplerFactory(T=50, N=500, IW_parameters=IW_parameters)"
   ]
  },
  {
   "cell_type": "code",
   "execution_count": 7,
   "id": "cellular-portland",
   "metadata": {},
   "outputs": [],
   "source": [
    "M_parameters = {'mu': jnp.linspace(start_mu, end_mu, T)[..., jnp.newaxis][1:],\n",
    "               'lcov_force': jnp.zeros((T-1,1))}\n",
    "L_parameters = {'mu': jnp.linspace(start_mu, end_mu, T)[..., jnp.newaxis][1:],\n",
    "               'lcov_force': jnp.zeros((T-1,1))}"
   ]
  },
  {
   "cell_type": "code",
   "execution_count": 8,
   "id": "cutting-scout",
   "metadata": {},
   "outputs": [],
   "source": [
    "params = {'mu': jnp.array([0.]),\n",
    "         'lcov': jnp.log(jnp.array([1.])),\n",
    "         'seed': random.PRNGKey(32),\n",
    "         'M_parameters': M_parameters,\n",
    "         'L_parameters': L_parameters,\n",
    "         'ldt': jnp.log(1e-2)\n",
    "         }"
   ]
  },
  {
   "cell_type": "code",
   "execution_count": 9,
   "id": "compact-punishment",
   "metadata": {},
   "outputs": [],
   "source": [
    "init_xs = gsmc_factory.M0(params)"
   ]
  },
  {
   "cell_type": "code",
   "execution_count": 10,
   "id": "surrounded-defensive",
   "metadata": {},
   "outputs": [
    {
     "data": {
      "text/plain": [
       "(500, 1)"
      ]
     },
     "execution_count": 10,
     "metadata": {},
     "output_type": "execute_result"
    }
   ],
   "source": [
    "init_xs['x'].shape"
   ]
  },
  {
   "cell_type": "code",
   "execution_count": 11,
   "id": "handmade-invasion",
   "metadata": {},
   "outputs": [
    {
     "data": {
      "text/plain": [
       "(array([  3.,   9.,  25.,  54.,  95., 124.,  93.,  65.,  23.,   9.]),\n",
       " array([-3.25966758, -2.65249432, -2.04532106, -1.4381478 , -0.83097454,\n",
       "        -0.22380129,  0.38337197,  0.99054523,  1.59771849,  2.20489175,\n",
       "         2.81206501]),\n",
       " <BarContainer object of 10 artists>)"
      ]
     },
     "execution_count": 11,
     "metadata": {},
     "output_type": "execute_result"
    },
    {
     "data": {
      "image/png": "[encoded data removed]",
      "text/plain": [
       "<Figure size 432x288 with 1 Axes>"
      ]
     },
     "metadata": {
      "needs_background": "light"
     },
     "output_type": "display_data"
    }
   ],
   "source": [
    "plt.hist(init_xs['x'].flatten())"
   ]
  },
  {
   "cell_type": "code",
   "execution_count": 12,
   "id": "fixed-czech",
   "metadata": {},
   "outputs": [
    {
     "data": {
      "text/plain": [
       "DeviceArray(1.06198702, dtype=float64)"
      ]
     },
     "execution_count": 12,
     "metadata": {},
     "output_type": "execute_result"
    }
   ],
   "source": [
    "np.var(init_xs['x'].flatten())"
   ]
  },
  {
   "cell_type": "markdown",
   "id": "special-particular",
   "metadata": {},
   "source": [
    "cool, now let's run the smc sampler..."
   ]
  },
  {
   "cell_type": "code",
   "execution_count": 13,
   "id": "based-xerox",
   "metadata": {},
   "outputs": [],
   "source": [
    "xps = init_xs\n",
    "xs = gsmc_factory.M(xps, params, 0)"
   ]
  },
  {
   "cell_type": "code",
   "execution_count": 14,
   "id": "planned-julian",
   "metadata": {},
   "outputs": [],
   "source": [
    "lws = gsmc_factory.logG(xps, xs, params, 0)"
   ]
  },
  {
   "cell_type": "code",
   "execution_count": 15,
   "id": "married-exception",
   "metadata": {},
   "outputs": [],
   "source": [
    "work_fn = gsmc_factory.works()"
   ]
  },
  {
   "cell_type": "code",
   "execution_count": 16,
   "id": "important-focus",
   "metadata": {},
   "outputs": [],
   "source": [
    "works = work_fn(params)"
   ]
  },
  {
   "cell_type": "code",
   "execution_count": 17,
   "id": "prostate-milton",
   "metadata": {},
   "outputs": [
    {
     "data": {
      "text/plain": [
       "(array([ 2.,  0.,  3.,  1.,  4.,  1.,  6.,  9., 12.,  8., 10., 18., 17.,\n",
       "        11., 24., 16., 23., 24., 22., 20., 32., 28., 23., 20., 24., 21.,\n",
       "        25., 16.,  9., 15., 14., 10.,  4.,  5.,  5.,  6.,  5.,  4.,  1.,\n",
       "         1.,  0.,  0.,  0.,  0.,  0.,  0.,  0.,  0.,  0.,  1.]),\n",
       " array([-1.83196507, -1.19471942, -0.55747377,  0.07977188,  0.71701753,\n",
       "         1.35426318,  1.99150883,  2.62875448,  3.26600013,  3.90324578,\n",
       "         4.54049143,  5.17773708,  5.81498273,  6.45222839,  7.08947404,\n",
       "         7.72671969,  8.36396534,  9.00121099,  9.63845664, 10.27570229,\n",
       "        10.91294794, 11.55019359, 12.18743924, 12.82468489, 13.46193054,\n",
       "        14.09917619, 14.73642185, 15.3736675 , 16.01091315, 16.6481588 ,\n",
       "        17.28540445, 17.9226501 , 18.55989575, 19.1971414 , 19.83438705,\n",
       "        20.4716327 , 21.10887835, 21.746124  , 22.38336965, 23.0206153 ,\n",
       "        23.65786096, 24.29510661, 24.93235226, 25.56959791, 26.20684356,\n",
       "        26.84408921, 27.48133486, 28.11858051, 28.75582616, 29.39307181,\n",
       "        30.03031746]),\n",
       " <BarContainer object of 50 artists>)"
      ]
     },
     "execution_count": 17,
     "metadata": {},
     "output_type": "execute_result"
    },
    {
     "data": {
      "image/png": "[encoded data removed]",
      "text/plain": [
       "<Figure size 432x288 with 1 Axes>"
      ]
     },
     "metadata": {
      "needs_background": "light"
     },
     "output_type": "display_data"
    }
   ],
   "source": [
    "plt.hist(works, bins=50)"
   ]
  },
  {
   "cell_type": "markdown",
   "id": "resistant-chain",
   "metadata": {},
   "source": [
    "and that looks like a legit work distribution..."
   ]
  },
  {
   "cell_type": "markdown",
   "id": "documented-timeline",
   "metadata": {},
   "source": [
    "todo: \n",
    "- compute free energy\n",
    "- check to make sure indexing is being carried out properly\n",
    "- run smc with different lengths to show that it improves with longer annealing time\n",
    "- check to see that we can take grad w.r.t. necessary forward propagation parameters.\n",
    "- take grad and demonstrate that vsmc works (again)\n",
    "- flip all of the parameters and do it in reverse...\n",
    "- compute BAR estimator...\n",
    "-take grad in forward and backward direction likewise!!!!"
   ]
  },
  {
   "cell_type": "markdown",
   "id": "psychological-abraham",
   "metadata": {},
   "source": [
    "free energy"
   ]
  },
  {
   "cell_type": "code",
   "execution_count": 18,
   "id": "offshore-twelve",
   "metadata": {},
   "outputs": [],
   "source": [
    "def f(cum_works):\n",
    "    \"\"\"\n",
    "    compute a free energy from cumulative works\n",
    "    \"\"\"\n",
    "    from jax.scipy.special import logsumexp\n",
    "    N = len(cum_works)\n",
    "    logZ = logsumexp(-cum_works) - jnp.log(N)\n",
    "    return -logZ"
   ]
  },
  {
   "cell_type": "markdown",
   "id": "hearing-regular",
   "metadata": {},
   "source": [
    "done:\n",
    "- compute free energy\n",
    "- check to make sure indexing is being carried out properly (this was done manually, but i think it is right)"
   ]
  },
  {
   "cell_type": "code",
   "execution_count": 19,
   "id": "suitable-infrared",
   "metadata": {},
   "outputs": [
    {
     "data": {
      "text/plain": [
       "DeviceArray(3.28620189, dtype=float64)"
      ]
     },
     "execution_count": 19,
     "metadata": {},
     "output_type": "execute_result"
    }
   ],
   "source": [
    "f(works)"
   ]
  },
  {
   "cell_type": "markdown",
   "id": "synthetic-venezuela",
   "metadata": {},
   "source": [
    "can we do the same with longer annealing time?"
   ]
  },
  {
   "cell_type": "code",
   "execution_count": 20,
   "id": "bulgarian-worship",
   "metadata": {},
   "outputs": [
    {
     "name": "stderr",
     "output_type": "stream",
     "text": [
      "100%|██████████| 6/6 [00:31<00:00,  5.20s/it]\n"
     ]
    }
   ],
   "source": [
    "start_mu, end_mu=0., 5.\n",
    "N=248\n",
    "f_collector = []\n",
    "import tqdm\n",
    "from jax import jit, value_and_grad\n",
    "times = [10,50,100,500, 1000, 5000]\n",
    "seed = random.PRNGKey(35)\n",
    "for i in tqdm.trange(len(times)):\n",
    "    T = times[i]\n",
    "    \n",
    "    #define gaussian cov and mu cov\n",
    "    start_mu, end_mu=0., 5.\n",
    "    gaussian_cov = jnp.log(jnp.ones(T)[..., jnp.newaxis])\n",
    "    mus = jnp.linspace(start_mu, end_mu, T)[..., jnp.newaxis]\n",
    "    IW_parameters = {'mu': mus, 'lcov_force': gaussian_cov}\n",
    "    \n",
    "    # define the forward and backward parameters\n",
    "    M_parameters = {'mu': jnp.linspace(start_mu, end_mu, T)[..., jnp.newaxis][1:],\n",
    "               'lcov_force': jnp.zeros((T-1,1))}\n",
    "    L_parameters = {'mu': jnp.linspace(start_mu, end_mu, T)[..., jnp.newaxis][1:],\n",
    "               'lcov_force': jnp.zeros((T-1,1))}\n",
    "    \n",
    "    # put them all together...\n",
    "    params = {'mu': jnp.array([0.]),\n",
    "         'lcov': jnp.log(jnp.array([1.])),\n",
    "         'seed': seed,\n",
    "         'M_parameters': M_parameters,\n",
    "         'L_parameters': L_parameters,\n",
    "         'ldt': jnp.log(1e-2)\n",
    "         }\n",
    "    \n",
    "    #make the factory...\n",
    "    factory = GaussianSMCSamplerFactory(T=T, \n",
    "                                        N=N, \n",
    "                                        IW_parameters=IW_parameters)\n",
    "    \n",
    "    works_fn = jit(factory.works())\n",
    "    fs = []\n",
    "    for i in range(100):\n",
    "        old_seed = params['seed']\n",
    "        params['seed'] = random.split(old_seed)\n",
    "        works = works_fn(params)\n",
    "        fs.append(f(works))\n",
    "    f_collector.append(fs)\n",
    "    \n",
    "    \n",
    "    \n",
    "    \n",
    "    \n",
    "    "
   ]
  },
  {
   "cell_type": "code",
   "execution_count": 21,
   "id": "ruled-quebec",
   "metadata": {},
   "outputs": [],
   "source": [
    "f_collector = np.array(f_collector)"
   ]
  },
  {
   "cell_type": "code",
   "execution_count": 22,
   "id": "ethical-decimal",
   "metadata": {},
   "outputs": [
    {
     "data": {
      "text/plain": [
       "(6, 100)"
      ]
     },
     "execution_count": 22,
     "metadata": {},
     "output_type": "execute_result"
    }
   ],
   "source": [
    "f_collector.shape"
   ]
  },
  {
   "cell_type": "code",
   "execution_count": 23,
   "id": "filled-titanium",
   "metadata": {},
   "outputs": [
    {
     "data": {
      "text/plain": [
       "{'whiskers': [<matplotlib.lines.Line2D at 0x7f0be012c0d0>,\n",
       "  <matplotlib.lines.Line2D at 0x7f0c4078c7d0>,\n",
       "  <matplotlib.lines.Line2D at 0x7f0bc81b2650>,\n",
       "  <matplotlib.lines.Line2D at 0x7f0be00983d0>,\n",
       "  <matplotlib.lines.Line2D at 0x7f0bc8179fd0>,\n",
       "  <matplotlib.lines.Line2D at 0x7f0bc8179b10>,\n",
       "  <matplotlib.lines.Line2D at 0x7f0be007fa90>,\n",
       "  <matplotlib.lines.Line2D at 0x7f0be0082990>,\n",
       "  <matplotlib.lines.Line2D at 0x7f0bc811e6d0>,\n",
       "  <matplotlib.lines.Line2D at 0x7f0bc812e0d0>,\n",
       "  <matplotlib.lines.Line2D at 0x7f0bc80df850>,\n",
       "  <matplotlib.lines.Line2D at 0x7f0bc80dfa50>],\n",
       " 'caps': [<matplotlib.lines.Line2D at 0x7f0c4076c6d0>,\n",
       "  <matplotlib.lines.Line2D at 0x7f0c406b8410>,\n",
       "  <matplotlib.lines.Line2D at 0x7f0be0098210>,\n",
       "  <matplotlib.lines.Line2D at 0x7f0be0336310>,\n",
       "  <matplotlib.lines.Line2D at 0x7f0be033cb50>,\n",
       "  <matplotlib.lines.Line2D at 0x7f0be011e890>,\n",
       "  <matplotlib.lines.Line2D at 0x7f0be0117b90>,\n",
       "  <matplotlib.lines.Line2D at 0x7f0be0089890>,\n",
       "  <matplotlib.lines.Line2D at 0x7f0bc819e0d0>,\n",
       "  <matplotlib.lines.Line2D at 0x7f0bc8188450>,\n",
       "  <matplotlib.lines.Line2D at 0x7f0bc80dfb90>,\n",
       "  <matplotlib.lines.Line2D at 0x7f0bc817e110>],\n",
       " 'boxes': [<matplotlib.lines.Line2D at 0x7f0be04d0b90>,\n",
       "  <matplotlib.lines.Line2D at 0x7f0be00abe50>,\n",
       "  <matplotlib.lines.Line2D at 0x7f0bc8194050>,\n",
       "  <matplotlib.lines.Line2D at 0x7f0be007f3d0>,\n",
       "  <matplotlib.lines.Line2D at 0x7f0bc811ee10>,\n",
       "  <matplotlib.lines.Line2D at 0x7f0be0087750>],\n",
       " 'medians': [<matplotlib.lines.Line2D at 0x7f0bc8190950>,\n",
       "  <matplotlib.lines.Line2D at 0x7f0be008bcd0>,\n",
       "  <matplotlib.lines.Line2D at 0x7f0be011e690>,\n",
       "  <matplotlib.lines.Line2D at 0x7f0bc81ad8d0>,\n",
       "  <matplotlib.lines.Line2D at 0x7f0bc81883d0>,\n",
       "  <matplotlib.lines.Line2D at 0x7f0bc817ec10>],\n",
       " 'fliers': [<matplotlib.lines.Line2D at 0x7f0bc81a3b10>,\n",
       "  <matplotlib.lines.Line2D at 0x7f0bc819bc90>,\n",
       "  <matplotlib.lines.Line2D at 0x7f0bc8114c90>,\n",
       "  <matplotlib.lines.Line2D at 0x7f0be0091390>,\n",
       "  <matplotlib.lines.Line2D at 0x7f0be0087f10>,\n",
       "  <matplotlib.lines.Line2D at 0x7f0bc817e090>],\n",
       " 'means': []}"
      ]
     },
     "execution_count": 23,
     "metadata": {},
     "output_type": "execute_result"
    },
    {
     "data": {
      "image/png": "[encoded data removed]",
      "text/plain": [
       "<Figure size 432x288 with 1 Axes>"
      ]
     },
     "metadata": {
      "needs_background": "light"
     },
     "output_type": "display_data"
    }
   ],
   "source": [
    "plt.boxplot(np.transpose(f_collector))"
   ]
  },
  {
   "cell_type": "markdown",
   "id": "moderate-chair",
   "metadata": {},
   "source": [
    "consider the case where we have $N=10$ particles and $T=50$. we want to take the gradient w.r.t. forward parameters. can we do that?\n"
   ]
  },
  {
   "cell_type": "code",
   "execution_count": 37,
   "id": "comfortable-profit",
   "metadata": {},
   "outputs": [],
   "source": [
    "N=10\n",
    "T=248\n",
    "\n",
    "start_mu, end_mu=0., 5.\n",
    "gaussian_cov = jnp.log(jnp.ones(T)[..., jnp.newaxis])\n",
    "mus = jnp.linspace(start_mu, end_mu, T)[..., jnp.newaxis]\n",
    "IW_parameters = {'mu': mus, 'lcov_force': gaussian_cov}\n",
    "\n",
    "factory = GaussianSMCSamplerFactory(T=T, \n",
    "                                    N=N, \n",
    "                                    IW_parameters=IW_parameters)\n",
    "\n",
    "work_fn = factory.works()\n",
    "\n",
    "M_parameters = {'lcov_force': jnp.zeros((T-1,1))}\n",
    "L_parameters = {'mu': jnp.linspace(start_mu, end_mu, T)[..., jnp.newaxis][1:],\n",
    "           'lcov_force': jnp.zeros((T-1,1))}\n",
    "\n",
    "params = {'mu': jnp.array([0.]),\n",
    "     'lcov': jnp.log(jnp.array([1.])),\n",
    "     'seed': seed,\n",
    "     'M_parameters': M_parameters,\n",
    "     'L_parameters': L_parameters,\n",
    "     'ldt': jnp.log(1e-2)\n",
    "     }\n",
    "\n",
    "def f_estimator(mus, seed):\n",
    "    params['M_parameters']['mu'] = mus\n",
    "    params['seed'] = seed\n",
    "    works = work_fn(params)\n",
    "    free_energy = f(works)\n",
    "    return free_energy\n",
    "\n",
    "    \n",
    "valgrad_f_estimator = jit(value_and_grad(f_estimator))  \n",
    "\n"
   ]
  },
  {
   "cell_type": "code",
   "execution_count": 38,
   "id": "atlantic-tactics",
   "metadata": {},
   "outputs": [
    {
     "data": {
      "text/plain": [
       "DeviceArray(6.41813416, dtype=float64)"
      ]
     },
     "execution_count": 38,
     "metadata": {},
     "output_type": "execute_result"
    }
   ],
   "source": [
    "f_estimator(jnp.linspace(start_mu, end_mu, T)[..., jnp.newaxis][1:], random.PRNGKey(234))"
   ]
  },
  {
   "cell_type": "code",
   "execution_count": 39,
   "id": "generous-depth",
   "metadata": {},
   "outputs": [],
   "source": [
    "outs_ = valgrad_f_estimator(jnp.linspace(start_mu, end_mu, T)[..., jnp.newaxis][1:], random.PRNGKey(234))"
   ]
  },
  {
   "cell_type": "markdown",
   "id": "above-indianapolis",
   "metadata": {},
   "source": [
    "so taking the grad works..."
   ]
  },
  {
   "cell_type": "markdown",
   "id": "postal-listing",
   "metadata": {},
   "source": [
    "what happens if we try to take the grad many times??"
   ]
  },
  {
   "cell_type": "code",
   "execution_count": null,
   "id": "confident-adrian",
   "metadata": {},
   "outputs": [],
   "source": []
  },
  {
   "cell_type": "code",
   "execution_count": 40,
   "id": "essential-empire",
   "metadata": {},
   "outputs": [
    {
     "name": "stderr",
     "output_type": "stream",
     "text": [
      "100%|██████████| 5000/5000 [00:02<00:00, 1704.79it/s]\n"
     ]
    }
   ],
   "source": [
    "fs = []\n",
    "mus = jnp.linspace(start_mu, end_mu, T)[..., jnp.newaxis][1:]\n",
    "seed = random.PRNGKey(324)\n",
    "lr=5e-1\n",
    "for i in tqdm.trange(5000):\n",
    "    run_seed, seed = random.split(seed)\n",
    "    f_val, gradval = valgrad_f_estimator(mus, run_seed)\n",
    "    mus = mus - lr*gradval\n",
    "    fs.append(f_val)\n",
    "    \n",
    "    \n",
    "    \n",
    "    "
   ]
  },
  {
   "cell_type": "code",
   "execution_count": 41,
   "id": "public-patrol",
   "metadata": {},
   "outputs": [
    {
     "data": {
      "text/plain": [
       "[<matplotlib.lines.Line2D at 0x7f0b411ac750>]"
      ]
     },
     "execution_count": 41,
     "metadata": {},
     "output_type": "execute_result"
    },
    {
     "data": {
      "image/png": "[encoded data removed]",
      "text/plain": [
       "<Figure size 432x288 with 1 Axes>"
      ]
     },
     "metadata": {
      "needs_background": "light"
     },
     "output_type": "display_data"
    }
   ],
   "source": [
    "plt.plot(fs)"
   ]
  },
  {
   "cell_type": "code",
   "execution_count": 42,
   "id": "differential-tenant",
   "metadata": {},
   "outputs": [
    {
     "data": {
      "text/plain": [
       "[<matplotlib.lines.Line2D at 0x7f0b408fa890>]"
      ]
     },
     "execution_count": 42,
     "metadata": {},
     "output_type": "execute_result"
    },
    {
     "data": {
      "image/png": "[encoded data removed]",
      "text/plain": [
       "<Figure size 432x288 with 1 Axes>"
      ]
     },
     "metadata": {
      "needs_background": "light"
     },
     "output_type": "display_data"
    }
   ],
   "source": [
    "plt.plot(mus)"
   ]
  },
  {
   "cell_type": "markdown",
   "id": "radio-slovenia",
   "metadata": {},
   "source": [
    "great, can we now also modify the width of the potential?!"
   ]
  },
  {
   "cell_type": "code",
   "execution_count": 43,
   "id": "composite-collect",
   "metadata": {},
   "outputs": [],
   "source": [
    "N=10\n",
    "T=500\n",
    "\n",
    "start_mu, end_mu=0., 5.\n",
    "gaussian_cov = jnp.log(jnp.ones(T)[..., jnp.newaxis])\n",
    "mus = jnp.linspace(start_mu, end_mu, T)[..., jnp.newaxis]\n",
    "IW_parameters = {'mu': mus, 'lcov_force': gaussian_cov}\n",
    "\n",
    "factory = GaussianSMCSamplerFactory(T=T, \n",
    "                                    N=N, \n",
    "                                    IW_parameters=IW_parameters)\n",
    "\n",
    "work_fn = factory.works()\n",
    "\n",
    "M_parameters = {}\n",
    "L_parameters = {'mu': jnp.linspace(start_mu, end_mu, T)[..., jnp.newaxis][1:],\n",
    "           'lcov_force': jnp.zeros((T-1,1))}\n",
    "\n",
    "params = {'mu': jnp.array([0.]),\n",
    "     'lcov': jnp.log(jnp.array([1.])),\n",
    "     'seed': seed,\n",
    "     'M_parameters': M_parameters,\n",
    "     'L_parameters': L_parameters,\n",
    "     'ldt': jnp.log(1e-2)\n",
    "     }\n",
    "\n",
    "def f_estimator(mu_lcov_dict, seed):\n",
    "    params['M_parameters']['mu'] = mu_lcov_dict['mu']\n",
    "    params['M_parameters']['lcov_force'] = mu_lcov_dict['lcov_force']\n",
    "    params['seed'] = seed\n",
    "    works = work_fn(params)\n",
    "    free_energy = f(works)\n",
    "    return free_energy\n",
    "\n",
    "    \n",
    "valgrad_f_estimator = jit(value_and_grad(f_estimator))  \n",
    "\n"
   ]
  },
  {
   "cell_type": "code",
   "execution_count": 44,
   "id": "improved-addiction",
   "metadata": {},
   "outputs": [
    {
     "data": {
      "text/plain": [
       "DeviceArray(1.59352498, dtype=float64)"
      ]
     },
     "execution_count": 44,
     "metadata": {},
     "output_type": "execute_result"
    }
   ],
   "source": [
    "in_dict = {'mu': jnp.linspace(start_mu, end_mu, T)[..., jnp.newaxis][1:],\n",
    "           'lcov_force': jnp.zeros((T-1,1))\n",
    "          }\n",
    "f_estimator(in_dict, random.PRNGKey(234))"
   ]
  },
  {
   "cell_type": "code",
   "execution_count": 45,
   "id": "closing-extension",
   "metadata": {},
   "outputs": [],
   "source": [
    "jf, jgrad = valgrad_f_estimator(in_dict, random.PRNGKey(234))"
   ]
  },
  {
   "cell_type": "code",
   "execution_count": 46,
   "id": "banned-prototype",
   "metadata": {},
   "outputs": [
    {
     "name": "stderr",
     "output_type": "stream",
     "text": [
      "100%|██████████| 15000/15000 [00:20<00:00, 747.77it/s]\n"
     ]
    }
   ],
   "source": [
    "fs = []\n",
    "in_dict = {'mu': jnp.linspace(start_mu, end_mu, T)[..., jnp.newaxis][1:],\n",
    "           'lcov_force': jnp.zeros((T-1,1))\n",
    "          }\n",
    "seed = random.PRNGKey(3454)\n",
    "lr=1e-1\n",
    "for i in tqdm.trange(15000):\n",
    "    run_seed, seed = random.split(seed)\n",
    "    f_val, gradval = valgrad_f_estimator(in_dict, run_seed)\n",
    "    in_dict['mu'] = in_dict['mu'] - lr*gradval['mu']\n",
    "    in_dict['lcov_force'] = in_dict['lcov_force'] - lr*gradval['lcov_force']\n",
    "    \n",
    "    fs.append(f_val)"
   ]
  },
  {
   "cell_type": "code",
   "execution_count": 47,
   "id": "molecular-parliament",
   "metadata": {},
   "outputs": [
    {
     "data": {
      "text/plain": [
       "[<matplotlib.lines.Line2D at 0x7f0b400f31d0>]"
      ]
     },
     "execution_count": 47,
     "metadata": {},
     "output_type": "execute_result"
    },
    {
     "data": {
      "image/png": "[encoded data removed]",
      "text/plain": [
       "<Figure size 432x288 with 1 Axes>"
      ]
     },
     "metadata": {
      "needs_background": "light"
     },
     "output_type": "display_data"
    }
   ],
   "source": [
    "plt.plot(fs)"
   ]
  },
  {
   "cell_type": "code",
   "execution_count": 48,
   "id": "passing-photography",
   "metadata": {},
   "outputs": [
    {
     "data": {
      "text/plain": [
       "[<matplotlib.lines.Line2D at 0x7f0b4008da10>]"
      ]
     },
     "execution_count": 48,
     "metadata": {},
     "output_type": "execute_result"
    },
    {
     "data": {
      "image/png": "[encoded data removed]",
      "text/plain": [
       "<Figure size 432x288 with 1 Axes>"
      ]
     },
     "metadata": {
      "needs_background": "light"
     },
     "output_type": "display_data"
    }
   ],
   "source": [
    "plt.plot(in_dict['lcov_force'])"
   ]
  },
  {
   "cell_type": "markdown",
   "id": "nasty-sarah",
   "metadata": {},
   "source": [
    "so it seems like that also shows an improvement, but converges more slowly."
   ]
  },
  {
   "cell_type": "markdown",
   "id": "chinese-domain",
   "metadata": {},
   "source": [
    "now, I'll try to go back to the original case where we can change the values of $\\mu$ in the force object, sample without training, train, and then sample again to show the relative gain in accuracy and reduction in bias..."
   ]
  },
  {
   "cell_type": "code",
   "execution_count": 49,
   "id": "infrared-differential",
   "metadata": {},
   "outputs": [],
   "source": [
    "N=10\n",
    "T=248\n",
    "\n",
    "start_mu, end_mu=0., 5.\n",
    "gaussian_cov = jnp.log(jnp.ones(T)[..., jnp.newaxis])\n",
    "mus = jnp.linspace(start_mu, end_mu, T)[..., jnp.newaxis]\n",
    "IW_parameters = {'mu': mus, 'lcov_force': gaussian_cov}\n",
    "\n",
    "factory = GaussianSMCSamplerFactory(T=T, \n",
    "                                    N=N, \n",
    "                                    IW_parameters=IW_parameters)\n",
    "\n",
    "work_fn = factory.works()\n",
    "\n",
    "M_parameters = {'lcov_force': jnp.zeros((T-1,1))}\n",
    "L_parameters = {'mu': jnp.linspace(start_mu, end_mu, T)[..., jnp.newaxis][1:],\n",
    "           'lcov_force': jnp.zeros((T-1,1))}\n",
    "\n",
    "params = {'mu': jnp.array([0.]),\n",
    "     'lcov': jnp.log(jnp.array([1.])),\n",
    "     'seed': seed,\n",
    "     'M_parameters': M_parameters,\n",
    "     'L_parameters': L_parameters,\n",
    "     'ldt': jnp.log(1e-2)\n",
    "     }\n",
    "\n",
    "@jit\n",
    "def f_estimator(mus, seed):\n",
    "    params['M_parameters']['mu'] = mus\n",
    "    params['seed'] = seed\n",
    "    works = work_fn(params)\n",
    "    free_energy = f(works)\n",
    "    return free_energy\n",
    "\n",
    "    \n",
    "valgrad_f_estimator = jit(value_and_grad(f_estimator))  \n",
    "\n"
   ]
  },
  {
   "cell_type": "code",
   "execution_count": 50,
   "id": "associate-orbit",
   "metadata": {},
   "outputs": [
    {
     "name": "stderr",
     "output_type": "stream",
     "text": [
      "100%|██████████| 1000/1000 [00:01<00:00, 547.55it/s]\n"
     ]
    }
   ],
   "source": [
    "untrained_fs = []\n",
    "mus = jnp.linspace(start_mu, end_mu, T)[..., jnp.newaxis][1:]\n",
    "seed = random.PRNGKey(667)\n",
    "for i in tqdm.trange(1000):\n",
    "    seed, run_seed = random.split(seed)\n",
    "    f_val = f_estimator(mus, run_seed)\n",
    "    untrained_fs.append(f_val)\n",
    "    \n",
    "    "
   ]
  },
  {
   "cell_type": "code",
   "execution_count": 51,
   "id": "talented-timothy",
   "metadata": {},
   "outputs": [
    {
     "name": "stderr",
     "output_type": "stream",
     "text": [
      "/home/dominic/anaconda3/envs/melange/lib/python3.7/site-packages/seaborn/distributions.py:2557: FutureWarning: `distplot` is a deprecated function and will be removed in a future version. Please adapt your code to use either `displot` (a figure-level function with similar flexibility) or `histplot` (an axes-level function for histograms).\n",
      "  warnings.warn(msg, FutureWarning)\n"
     ]
    },
    {
     "data": {
      "text/plain": [
       "<AxesSubplot:ylabel='Density'>"
      ]
     },
     "execution_count": 51,
     "metadata": {},
     "output_type": "execute_result"
    },
    {
     "data": {
      "image/png": "[encoded data removed]",
      "text/plain": [
       "<Figure size 432x288 with 1 Axes>"
      ]
     },
     "metadata": {
      "needs_background": "light"
     },
     "output_type": "display_data"
    }
   ],
   "source": [
    "sns.distplot(untrained_fs)"
   ]
  },
  {
   "cell_type": "code",
   "execution_count": 52,
   "id": "facial-monster",
   "metadata": {},
   "outputs": [
    {
     "name": "stderr",
     "output_type": "stream",
     "text": [
      "100%|██████████| 10000/10000 [00:09<00:00, 1078.52it/s]\n"
     ]
    }
   ],
   "source": [
    "training_fs = []\n",
    "training_mus = jnp.linspace(start_mu, end_mu, T)[..., jnp.newaxis][1:]\n",
    "lr=5e-1\n",
    "for i in tqdm.trange(10000):\n",
    "    run_seed, seed = random.split(seed)\n",
    "    f_val, gradval = valgrad_f_estimator(training_mus, run_seed)\n",
    "    training_mus = training_mus - lr*gradval\n",
    "    training_fs.append(f_val)"
   ]
  },
  {
   "cell_type": "code",
   "execution_count": 53,
   "id": "immediate-wallace",
   "metadata": {},
   "outputs": [
    {
     "data": {
      "text/plain": [
       "[<matplotlib.lines.Line2D at 0x7f0b1d14dfd0>]"
      ]
     },
     "execution_count": 53,
     "metadata": {},
     "output_type": "execute_result"
    },
    {
     "data": {
      "image/png": "[encoded data removed]",
      "text/plain": [
       "<Figure size 432x288 with 1 Axes>"
      ]
     },
     "metadata": {
      "needs_background": "light"
     },
     "output_type": "display_data"
    }
   ],
   "source": [
    "plt.plot(training_fs)"
   ]
  },
  {
   "cell_type": "code",
   "execution_count": 54,
   "id": "assigned-kingdom",
   "metadata": {},
   "outputs": [
    {
     "name": "stderr",
     "output_type": "stream",
     "text": [
      "100%|██████████| 1000/1000 [00:00<00:00, 2061.40it/s]\n"
     ]
    }
   ],
   "source": [
    "trained_fs = []\n",
    "for i in tqdm.trange(1000):\n",
    "    seed, run_seed = random.split(seed)\n",
    "    f_val = f_estimator(training_mus, run_seed)\n",
    "    trained_fs.append(f_val)"
   ]
  },
  {
   "cell_type": "code",
   "execution_count": 55,
   "id": "brilliant-murder",
   "metadata": {},
   "outputs": [
    {
     "name": "stderr",
     "output_type": "stream",
     "text": [
      "/home/dominic/anaconda3/envs/melange/lib/python3.7/site-packages/seaborn/distributions.py:2557: FutureWarning: `distplot` is a deprecated function and will be removed in a future version. Please adapt your code to use either `displot` (a figure-level function with similar flexibility) or `histplot` (an axes-level function for histograms).\n",
      "  warnings.warn(msg, FutureWarning)\n",
      "/home/dominic/anaconda3/envs/melange/lib/python3.7/site-packages/seaborn/distributions.py:2557: FutureWarning: `distplot` is a deprecated function and will be removed in a future version. Please adapt your code to use either `displot` (a figure-level function with similar flexibility) or `histplot` (an axes-level function for histograms).\n",
      "  warnings.warn(msg, FutureWarning)\n"
     ]
    },
    {
     "data": {
      "text/plain": [
       "Text(0.5, 0, 'estimated free energy [kT]')"
      ]
     },
     "execution_count": 55,
     "metadata": {},
     "output_type": "execute_result"
    },
    {
     "data": {
      "image/png": "[encoded data removed]",
      "text/plain": [
       "<Figure size 432x288 with 1 Axes>"
      ]
     },
     "metadata": {
      "needs_background": "light"
     },
     "output_type": "display_data"
    }
   ],
   "source": [
    "sns.distplot(untrained_fs, label=f\"pre-training\")\n",
    "sns.distplot(trained_fs, label=f\"post_training\")\n",
    "plt.xlabel(\"estimated free energy [kT]\")"
   ]
  },
  {
   "cell_type": "markdown",
   "id": "objective-orlando",
   "metadata": {},
   "source": [
    "This looks great!\n",
    "TODO in another notebook:\n",
    "- implement BAR in the near-reversible regime\n",
    "- train the forward pass, flip, and without training backward, compute BAR estimate\n",
    "- train forward/backward passes simultaneously.\n"
   ]
  },
  {
   "cell_type": "code",
   "execution_count": null,
   "id": "unable-window",
   "metadata": {},
   "outputs": [],
   "source": []
  }
 ],
 "metadata": {
  "kernelspec": {
   "display_name": "Python 3",
   "language": "python",
   "name": "python3"
  },
  "language_info": {
   "codemirror_mode": {
    "name": "ipython",
    "version": 3
   },
   "file_extension": ".py",
   "mimetype": "text/x-python",
   "name": "python",
   "nbconvert_exporter": "python",
   "pygments_lexer": "ipython3",
   "version": "3.7.9"
  }
 },
 "nbformat": 4,
 "nbformat_minor": 5
}
