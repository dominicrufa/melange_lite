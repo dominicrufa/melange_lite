{
 "cells": [
  {
   "cell_type": "markdown",
   "id": "sized-producer",
   "metadata": {},
   "source": [
    "# The Ising Model\n",
    "Here, I'll actually do a symmetric protocol nonequilibrium switch with training... (pray for me)"
   ]
  },
  {
   "cell_type": "markdown",
   "id": "binding-elder",
   "metadata": {},
   "source": [
    "## Imports"
   ]
  },
  {
   "cell_type": "code",
   "execution_count": 1,
   "id": "large-smith",
   "metadata": {},
   "outputs": [],
   "source": [
    "from jax import numpy as jnp\n",
    "import numpy as np\n",
    "from jax.config import config; config.update(\"jax_enable_x64\", True)\n",
    "from jax import lax, ops, vmap, jit, grad, random, lax"
   ]
  },
  {
   "cell_type": "code",
   "execution_count": 2,
   "id": "green-hypothesis",
   "metadata": {},
   "outputs": [],
   "source": [
    "%matplotlib inline\n",
    "\n",
    "import matplotlib\n",
    "import numpy as np\n",
    "import matplotlib.pyplot as plt\n",
    "import seaborn as sns\n",
    "prop_cycle = plt.rcParams['axes.prop_cycle']\n",
    "colors = prop_cycle.by_key()['color']"
   ]
  },
  {
   "cell_type": "code",
   "execution_count": 3,
   "id": "sustainable-concord",
   "metadata": {},
   "outputs": [],
   "source": [
    "from melange_lite.magnets.utils import *\n",
    "from melange_lite.magnets.ising_modell import IsingsModellSMCMCMCSampler, TrainableIsingsModellSMCSampler"
   ]
  },
  {
   "cell_type": "markdown",
   "id": "productive-fleece",
   "metadata": {},
   "source": [
    "# EXP Protocol MCMC SMC Sampler"
   ]
  },
  {
   "cell_type": "code",
   "execution_count": 4,
   "id": "fatty-suite",
   "metadata": {},
   "outputs": [
    {
     "name": "stderr",
     "output_type": "stream",
     "text": [
      "WARNING:absl:No GPU/TPU found, falling back to CPU. (Set TF_CPP_MIN_LOG_LEVEL=0 and rerun for more info.)\n"
     ]
    },
    {
     "name": "stdout",
     "output_type": "stream",
     "text": [
      "20\n"
     ]
    }
   ],
   "source": [
    "N= 248\n",
    "L=32\n",
    "T = 20\n",
    "direction = [0,1]\n",
    "kT_schedule = jnp.linspace(0,1,T)\n",
    "IW_parameters = jnp.hstack([jnp.ones(T)[..., jnp.newaxis], #J\n",
    "                                                                         jnp.zeros(T)[..., jnp.newaxis], #h\n",
    "                                                                         kT_schedule[..., jnp.newaxis] #beta\n",
    "                                                                          ])\n",
    "print(len(IW_parameters))"
   ]
  },
  {
   "cell_type": "code",
   "execution_count": 5,
   "id": "editorial-elephant",
   "metadata": {},
   "outputs": [],
   "source": [
    "smc_factory = TrainableIsingsModellSMCSampler(T=len(IW_parameters), \n",
    "                                              N=N, \n",
    "                                              IW_parameters= IW_parameters,\n",
    "                                              L=L, \n",
    "                                              full_scan=True,\n",
    "                                              MCMC=False\n",
    "                                              )\n",
    "smc_work_fn = smc_factory.works()\n",
    "kernel_kT_schedule = jnp.linspace(0,1,T)[1:]\n",
    "kernel_kT_schedule_len = len(kernel_kT_schedule)\n",
    "# kernel_parameters = jnp.hstack([jnp.ones(kernel_kT_schedule_len)[..., jnp.newaxis], #J\n",
    "#                                 jnp.zeros(kernel_kT_schedule_len)[..., jnp.newaxis], #h\n",
    "#                                 kernel_kT_schedule[..., jnp.newaxis] #beta\n",
    "#                                ])"
   ]
  },
  {
   "cell_type": "code",
   "execution_count": 6,
   "id": "essential-black",
   "metadata": {},
   "outputs": [],
   "source": [
    "def work_fn(seed, temp_schedule):\n",
    "    _kernel_parameters = jnp.hstack([jnp.ones(kernel_kT_schedule_len)[..., jnp.newaxis], #J\n",
    "                                jnp.zeros(kernel_kT_schedule_len)[..., jnp.newaxis], #h\n",
    "                                temp_schedule[..., jnp.newaxis] #beta\n",
    "                               ])\n",
    "    param_dict = {'seed': seed, 'kernel_parameters': _kernel_parameters}\n",
    "    wks = smc_work_fn(param_dict)\n",
    "    cumulative_works = jnp.cumsum(wks, axis=0)\n",
    "    return cumulative_works"
   ]
  },
  {
   "cell_type": "code",
   "execution_count": 7,
   "id": "miniature-newspaper",
   "metadata": {},
   "outputs": [],
   "source": [
    "seed = random.PRNGKey(45324623)\n",
    "works = work_fn(seed, kernel_kT_schedule)"
   ]
  },
  {
   "cell_type": "code",
   "execution_count": 8,
   "id": "apparent-mexican",
   "metadata": {},
   "outputs": [
    {
     "data": {
      "text/plain": [
       "(20, 248)"
      ]
     },
     "execution_count": 8,
     "metadata": {},
     "output_type": "execute_result"
    }
   ],
   "source": [
    "works.shape"
   ]
  },
  {
   "cell_type": "code",
   "execution_count": 9,
   "id": "danish-singapore",
   "metadata": {},
   "outputs": [
    {
     "data": {
      "image/png": "[encoded data removed]",
      "text/plain": [
       "<Figure size 432x288 with 1 Axes>"
      ]
     },
     "metadata": {
      "needs_background": "light"
     },
     "output_type": "display_data"
    }
   ],
   "source": [
    "for i in range(N):\n",
    "    plt.plot(works[:,i], color=colors[0], alpha=0.3)"
   ]
  },
  {
   "cell_type": "code",
   "execution_count": 10,
   "id": "floating-chancellor",
   "metadata": {},
   "outputs": [],
   "source": [
    "from melange_lite.utils.analysis import free_energy"
   ]
  },
  {
   "cell_type": "code",
   "execution_count": 11,
   "id": "living-glasgow",
   "metadata": {},
   "outputs": [],
   "source": [
    "def loss_fn(kernel_params, seed):\n",
    "    cum_works = work_fn(seed, kernel_params)\n",
    "    last_works = cum_works[-1,:]\n",
    "    #f = free_energy(last_works)\n",
    "    f = jnp.mean(last_works)\n",
    "    return f\n",
    "\n",
    "    "
   ]
  },
  {
   "cell_type": "code",
   "execution_count": 12,
   "id": "terminal-chapter",
   "metadata": {},
   "outputs": [],
   "source": [
    "from jax import value_and_grad\n",
    "from jax.experimental import optimizers"
   ]
  },
  {
   "cell_type": "code",
   "execution_count": 13,
   "id": "vital-worker",
   "metadata": {},
   "outputs": [],
   "source": [
    "stepsize=1e-3\n",
    "opt_init, opt_update, get_params = optimizers.adam(step_size=stepsize)\n",
    "opt_state = opt_init(kernel_kT_schedule)"
   ]
  },
  {
   "cell_type": "code",
   "execution_count": 14,
   "id": "comparative-chase",
   "metadata": {},
   "outputs": [],
   "source": [
    "@jit\n",
    "def step(_step, opt_state, seed):\n",
    "    seed, run_seed = random.split(seed)\n",
    "    run_seed = seed\n",
    "    value, grads = value_and_grad(loss_fn)(get_params(opt_state), run_seed)\n",
    "    new_opt_state = opt_update(_step, grads, opt_state)\n",
    "    return value, new_opt_state, seed\n"
   ]
  },
  {
   "cell_type": "code",
   "execution_count": 15,
   "id": "powerful-fountain",
   "metadata": {},
   "outputs": [],
   "source": [
    "import tqdm"
   ]
  },
  {
   "cell_type": "code",
   "execution_count": 16,
   "id": "alpha-province",
   "metadata": {},
   "outputs": [],
   "source": [
    "num_steps=100\n",
    "seed = random.PRNGKey(42345234523555)"
   ]
  },
  {
   "cell_type": "code",
   "execution_count": 17,
   "id": "ultimate-sunrise",
   "metadata": {},
   "outputs": [],
   "source": [
    "vals = []"
   ]
  },
  {
   "cell_type": "code",
   "execution_count": 18,
   "id": "placed-scholar",
   "metadata": {},
   "outputs": [
    {
     "name": "stderr",
     "output_type": "stream",
     "text": [
      "100%|██████████| 100/100 [07:17<00:00,  4.38s/it]\n"
     ]
    }
   ],
   "source": [
    "for i in tqdm.trange(num_steps):\n",
    "    value, opt_state, seed = step(i, opt_state, seed)\n",
    "    vals.append(value)\n",
    "    "
   ]
  },
  {
   "cell_type": "code",
   "execution_count": 19,
   "id": "naval-italy",
   "metadata": {},
   "outputs": [
    {
     "data": {
      "text/plain": [
       "[<matplotlib.lines.Line2D at 0x7ff96c22ef10>]"
      ]
     },
     "execution_count": 19,
     "metadata": {},
     "output_type": "execute_result"
    },
    {
     "data": {
      "image/png": "[encoded data removed]",
      "text/plain": [
       "<Figure size 432x288 with 1 Axes>"
      ]
     },
     "metadata": {
      "needs_background": "light"
     },
     "output_type": "display_data"
    }
   ],
   "source": [
    "plt.plot(vals)"
   ]
  },
  {
   "cell_type": "markdown",
   "id": "equal-knight",
   "metadata": {},
   "source": [
    "let's try this another way..."
   ]
  },
  {
   "cell_type": "code",
   "execution_count": 57,
   "id": "creative-cursor",
   "metadata": {},
   "outputs": [],
   "source": [
    "@jit\n",
    "def man_step(_step, kernel_params, seed, lr):\n",
    "    #seed, run_seed = random.split(seed)\n",
    "    run_seed = seed\n",
    "    value, grads = value_and_grad(loss_fn)(kernel_params, run_seed)\n",
    "    new_kernel_params = kernel_params - lr*grads\n",
    "    return value, new_kernel_params, seed"
   ]
  },
  {
   "cell_type": "code",
   "execution_count": 58,
   "id": "confident-pharmacology",
   "metadata": {},
   "outputs": [],
   "source": [
    "kernel_params = kernel_kT_schedule"
   ]
  },
  {
   "cell_type": "code",
   "execution_count": 59,
   "id": "tutorial-simple",
   "metadata": {},
   "outputs": [],
   "source": [
    "vals = []\n",
    "seed = random.PRNGKey(453245)"
   ]
  },
  {
   "cell_type": "code",
   "execution_count": 60,
   "id": "forty-influence",
   "metadata": {},
   "outputs": [
    {
     "name": "stderr",
     "output_type": "stream",
     "text": [
      "100%|██████████| 100/100 [00:39<00:00,  2.54it/s]\n"
     ]
    }
   ],
   "source": [
    "for i in tqdm.trange(100):\n",
    "    val, kernel_params, seed = man_step(i, kernel_params, seed, 1e-12)\n",
    "    vals.append(val)"
   ]
  },
  {
   "cell_type": "code",
   "execution_count": 61,
   "id": "developing-progressive",
   "metadata": {},
   "outputs": [
    {
     "data": {
      "text/plain": [
       "[<matplotlib.lines.Line2D at 0x7f6e0529cdd0>]"
      ]
     },
     "execution_count": 61,
     "metadata": {},
     "output_type": "execute_result"
    },
    {
     "data": {
      "image/png": "[encoded data removed]",
      "text/plain": [
       "<Figure size 432x288 with 1 Axes>"
      ]
     },
     "metadata": {
      "needs_background": "light"
     },
     "output_type": "display_data"
    }
   ],
   "source": [
    "plt.plot(vals)"
   ]
  },
  {
   "cell_type": "code",
   "execution_count": 62,
   "id": "civilian-edgar",
   "metadata": {},
   "outputs": [
    {
     "data": {
      "text/plain": [
       "[DeviceArray(-1212.2288035, dtype=float64),\n",
       " Buffer(-1212.22880372, dtype=float64),\n",
       " Buffer(-1212.22880394, dtype=float64),\n",
       " Buffer(-1212.22880416, dtype=float64),\n",
       " Buffer(-1212.22880438, dtype=float64),\n",
       " Buffer(-1212.2288046, dtype=float64),\n",
       " Buffer(-1212.22880482, dtype=float64),\n",
       " Buffer(-1212.22880504, dtype=float64),\n",
       " Buffer(-1212.22880526, dtype=float64),\n",
       " Buffer(-1212.22880548, dtype=float64),\n",
       " Buffer(-1212.22880571, dtype=float64),\n",
       " Buffer(-1212.22880593, dtype=float64),\n",
       " Buffer(-1212.22880615, dtype=float64),\n",
       " Buffer(-1212.22880637, dtype=float64),\n",
       " Buffer(-1212.22880659, dtype=float64),\n",
       " Buffer(-1212.22880681, dtype=float64),\n",
       " Buffer(-1212.22880703, dtype=float64),\n",
       " Buffer(-1212.22880725, dtype=float64),\n",
       " Buffer(-1212.22880747, dtype=float64),\n",
       " Buffer(-1212.22880769, dtype=float64),\n",
       " Buffer(-1212.22880791, dtype=float64),\n",
       " Buffer(-1212.22880813, dtype=float64),\n",
       " Buffer(-1212.22880835, dtype=float64),\n",
       " Buffer(-1212.22880857, dtype=float64),\n",
       " Buffer(-1212.22880879, dtype=float64),\n",
       " Buffer(-1212.22880901, dtype=float64),\n",
       " Buffer(-1212.22880923, dtype=float64),\n",
       " Buffer(-1212.22880945, dtype=float64),\n",
       " Buffer(-1212.22880967, dtype=float64),\n",
       " Buffer(-1212.22880989, dtype=float64),\n",
       " Buffer(-1212.22881011, dtype=float64),\n",
       " Buffer(-1212.22881033, dtype=float64),\n",
       " Buffer(-1212.22881055, dtype=float64),\n",
       " Buffer(-1212.22881077, dtype=float64),\n",
       " Buffer(-1212.22881099, dtype=float64),\n",
       " Buffer(-1212.22881121, dtype=float64),\n",
       " Buffer(-1212.22881143, dtype=float64),\n",
       " Buffer(-1212.22881165, dtype=float64),\n",
       " Buffer(-1212.22881187, dtype=float64),\n",
       " Buffer(-1212.22881209, dtype=float64),\n",
       " Buffer(-1212.22881231, dtype=float64),\n",
       " Buffer(-1212.22881253, dtype=float64),\n",
       " Buffer(-1212.22881275, dtype=float64),\n",
       " Buffer(-1212.22881298, dtype=float64),\n",
       " Buffer(-1212.2288132, dtype=float64),\n",
       " Buffer(-1212.22881342, dtype=float64),\n",
       " Buffer(-1212.22881364, dtype=float64),\n",
       " Buffer(-1212.22881386, dtype=float64),\n",
       " Buffer(-1212.22881408, dtype=float64),\n",
       " Buffer(-1212.2288143, dtype=float64),\n",
       " Buffer(-1212.22881452, dtype=float64),\n",
       " Buffer(-1212.22881474, dtype=float64),\n",
       " Buffer(-1212.22881496, dtype=float64),\n",
       " Buffer(-1212.22881518, dtype=float64),\n",
       " Buffer(-1212.2288154, dtype=float64),\n",
       " Buffer(-1212.22881562, dtype=float64),\n",
       " Buffer(-1212.22881584, dtype=float64),\n",
       " Buffer(-1212.22881606, dtype=float64),\n",
       " Buffer(-1212.22881628, dtype=float64),\n",
       " Buffer(-1212.2288165, dtype=float64),\n",
       " Buffer(-1212.22881672, dtype=float64),\n",
       " Buffer(-1212.22881694, dtype=float64),\n",
       " Buffer(-1212.22881716, dtype=float64),\n",
       " Buffer(-1212.22881738, dtype=float64),\n",
       " Buffer(-1212.2288176, dtype=float64),\n",
       " Buffer(-1212.22881782, dtype=float64),\n",
       " Buffer(-1212.22881804, dtype=float64),\n",
       " Buffer(-1212.22881826, dtype=float64),\n",
       " Buffer(-1212.22881848, dtype=float64),\n",
       " Buffer(-1212.2288187, dtype=float64),\n",
       " Buffer(-1212.22881892, dtype=float64),\n",
       " Buffer(-1212.22881914, dtype=float64),\n",
       " Buffer(-1212.22881936, dtype=float64),\n",
       " Buffer(-1212.22881958, dtype=float64),\n",
       " Buffer(-1212.2288198, dtype=float64),\n",
       " Buffer(-1212.22882003, dtype=float64),\n",
       " Buffer(-1212.22882025, dtype=float64),\n",
       " Buffer(-1212.22882047, dtype=float64),\n",
       " Buffer(-1212.22882069, dtype=float64),\n",
       " Buffer(-1212.22882091, dtype=float64),\n",
       " Buffer(-1212.22882113, dtype=float64),\n",
       " Buffer(-1212.22882135, dtype=float64),\n",
       " Buffer(-1212.22882157, dtype=float64),\n",
       " Buffer(-1212.22882179, dtype=float64),\n",
       " Buffer(-1212.22882201, dtype=float64),\n",
       " Buffer(-1212.22882223, dtype=float64),\n",
       " Buffer(-1212.22882245, dtype=float64),\n",
       " Buffer(-1212.22882267, dtype=float64),\n",
       " Buffer(-1212.22882289, dtype=float64),\n",
       " Buffer(-1212.22882311, dtype=float64),\n",
       " Buffer(-1212.22882333, dtype=float64),\n",
       " Buffer(-1212.22882355, dtype=float64),\n",
       " Buffer(-1212.22882377, dtype=float64),\n",
       " Buffer(-1212.22882399, dtype=float64),\n",
       " Buffer(-1212.22882421, dtype=float64),\n",
       " Buffer(-1212.22882443, dtype=float64),\n",
       " Buffer(-1212.22882465, dtype=float64),\n",
       " Buffer(-1212.22882487, dtype=float64),\n",
       " Buffer(-1212.22882509, dtype=float64),\n",
       " Buffer(-1212.22882531, dtype=float64)]"
      ]
     },
     "execution_count": 62,
     "metadata": {},
     "output_type": "execute_result"
    }
   ],
   "source": [
    "vals"
   ]
  },
  {
   "cell_type": "code",
   "execution_count": null,
   "id": "central-robertson",
   "metadata": {},
   "outputs": [],
   "source": []
  }
 ],
 "metadata": {
  "kernelspec": {
   "display_name": "Python 3",
   "language": "python",
   "name": "python3"
  },
  "language_info": {
   "codemirror_mode": {
    "name": "ipython",
    "version": 3
   },
   "file_extension": ".py",
   "mimetype": "text/x-python",
   "name": "python",
   "nbconvert_exporter": "python",
   "pygments_lexer": "ipython3",
   "version": "3.7.9"
  }
 },
 "nbformat": 4,
 "nbformat_minor": 5
}
