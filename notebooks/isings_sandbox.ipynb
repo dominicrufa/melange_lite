{
 "cells": [
  {
   "cell_type": "code",
   "execution_count": 37,
   "id": "respective-calcium",
   "metadata": {},
   "outputs": [],
   "source": [
    "from jax import numpy as jnp\n",
    "import numpy as np\n",
    "from jax.config import config; config.update(\"jax_enable_x64\", True)\n",
    "from jax import lax, ops, vmap, jit, grad, random, lax\n",
    "from melange_lite.magnets.utils import *\n"
   ]
  },
  {
   "cell_type": "markdown",
   "id": "clinical-clause",
   "metadata": {},
   "source": [
    "# Tests\n",
    "some consistency tests for magnets and MCMC samplers for magnets"
   ]
  },
  {
   "cell_type": "markdown",
   "id": "egyptian-donna",
   "metadata": {},
   "source": [
    "## Test the equivalence of MCMC SMC Sampler weights and manual MCMC-imposed SMC Sampler weights"
   ]
  },
  {
   "cell_type": "code",
   "execution_count": 38,
   "id": "arranged-rings",
   "metadata": {},
   "outputs": [],
   "source": [
    "from melange_lite.magnets.ising_modell import IsingsModellSMCMCMCSampler, TrainableIsingsModellSMCSampler"
   ]
  },
  {
   "cell_type": "markdown",
   "id": "deluxe-fusion",
   "metadata": {},
   "source": [
    "define some parameters for SMCSampler"
   ]
  },
  {
   "cell_type": "code",
   "execution_count": 39,
   "id": "blank-brave",
   "metadata": {},
   "outputs": [],
   "source": [
    "T=10\n",
    "N=248\n",
    "L=32"
   ]
  },
  {
   "cell_type": "code",
   "execution_count": 28,
   "id": "likely-disclosure",
   "metadata": {},
   "outputs": [],
   "source": [
    "IW_parameters = jnp.hstack([jnp.ones(T)[..., jnp.newaxis], #J\n",
    "                                                                         jnp.zeros(T)[..., jnp.newaxis], #h\n",
    "                                                                         jnp.linspace(0,1,T)[..., jnp.newaxis] #beta\n",
    "                                                                          ])"
   ]
  },
  {
   "cell_type": "markdown",
   "id": "young-religion",
   "metadata": {},
   "source": [
    "build the smc factory"
   ]
  },
  {
   "cell_type": "code",
   "execution_count": 40,
   "id": "tender-butterfly",
   "metadata": {},
   "outputs": [],
   "source": [
    "smc_factory = TrainableIsingsModellSMCSampler(T=T, \n",
    "                                              N=N, \n",
    "                                              IW_parameters= IW_parameters,\n",
    "                                              L=L, \n",
    "                                              full_scan=True,\n",
    "                                              MCMC=False\n",
    "                                              )"
   ]
  },
  {
   "cell_type": "markdown",
   "id": "endangered-shareware",
   "metadata": {},
   "source": [
    "make a parameter dictionary for propagation"
   ]
  },
  {
   "cell_type": "code",
   "execution_count": 41,
   "id": "reflected-soundtrack",
   "metadata": {},
   "outputs": [],
   "source": [
    "param_dict = {'seed': random.PRNGKey(2342), 'kernel_parameters': IW_parameters[1:]}"
   ]
  },
  {
   "cell_type": "markdown",
   "id": "precise-insertion",
   "metadata": {},
   "source": [
    "generate the positions at time `t=0`"
   ]
  },
  {
   "cell_type": "code",
   "execution_count": 42,
   "id": "warming-discharge",
   "metadata": {},
   "outputs": [],
   "source": [
    "X0s = smc_factory.M0(param_dict)"
   ]
  },
  {
   "cell_type": "markdown",
   "id": "pediatric-assembly",
   "metadata": {},
   "source": [
    "then generate the positions at time `t=1`"
   ]
  },
  {
   "cell_type": "code",
   "execution_count": 43,
   "id": "variable-compound",
   "metadata": {},
   "outputs": [],
   "source": [
    "X1s = smc_factory.M(X0s, param_dict, 0)"
   ]
  },
  {
   "cell_type": "markdown",
   "id": "northern-thirty",
   "metadata": {},
   "source": [
    "compute the weights at time `t=1`"
   ]
  },
  {
   "cell_type": "code",
   "execution_count": 44,
   "id": "fatty-italic",
   "metadata": {},
   "outputs": [],
   "source": [
    "logG1s = smc_factory.logG(X0s, X1s, param_dict, 0)"
   ]
  },
  {
   "cell_type": "markdown",
   "id": "threatened-milan",
   "metadata": {},
   "source": [
    "define the importance weight function (vmapped) so we can manually compute the log weights."
   ]
  },
  {
   "cell_type": "code",
   "execution_count": 45,
   "id": "individual-rolling",
   "metadata": {},
   "outputs": [],
   "source": [
    "vIW_energy_fn = vmap(smc_factory._IW_energy_fn, in_axes=(0,None))"
   ]
  },
  {
   "cell_type": "markdown",
   "id": "dedicated-theology",
   "metadata": {},
   "source": [
    "manually compute the log weights from the $\\pi_t$-invariant $k_t$ forward kernel."
   ]
  },
  {
   "cell_type": "code",
   "execution_count": 46,
   "id": "postal-polls",
   "metadata": {},
   "outputs": [],
   "source": [
    "MCMC_lws = -(vIW_energy_fn(X0s['x'], smc_factory.IW_parameters[1]) - vIW_energy_fn(X0s['x'], smc_factory.IW_parameters[0]))"
   ]
  },
  {
   "cell_type": "markdown",
   "id": "immune-british",
   "metadata": {},
   "source": [
    "assert that these are all close, and then the test is complete."
   ]
  },
  {
   "cell_type": "code",
   "execution_count": 47,
   "id": "fitted-supervisor",
   "metadata": {},
   "outputs": [],
   "source": [
    "assert jnp.allclose(logG1s, MCMC_lws)"
   ]
  },
  {
   "cell_type": "markdown",
   "id": "religious-paper",
   "metadata": {},
   "source": [
    "all done"
   ]
  },
  {
   "cell_type": "code",
   "execution_count": null,
   "id": "spoken-concern",
   "metadata": {},
   "outputs": [],
   "source": []
  }
 ],
 "metadata": {
  "kernelspec": {
   "display_name": "Python 3",
   "language": "python",
   "name": "python3"
  },
  "language_info": {
   "codemirror_mode": {
    "name": "ipython",
    "version": 3
   },
   "file_extension": ".py",
   "mimetype": "text/x-python",
   "name": "python",
   "nbconvert_exporter": "python",
   "pygments_lexer": "ipython3",
   "version": "3.7.9"
  }
 },
 "nbformat": 4,
 "nbformat_minor": 5
}
